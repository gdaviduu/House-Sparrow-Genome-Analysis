{
 "cells": [
  {
   "cell_type": "code",
   "execution_count": 40,
   "metadata": {},
   "outputs": [],
   "source": [
    "library(circlize)\n",
    "library(data.table)\n",
    "library(dplyr)\n"
   ]
  },
  {
   "cell_type": "code",
   "execution_count": 41,
   "metadata": {},
   "outputs": [
    {
     "name": "stdout",
     "output_type": "stream",
     "text": [
      "\n",
      "The downloaded binary packages are in\n",
      "\t/var/folders/ty/tyqpzz352kj8shcxk073h0jm0000gn/T//RtmpYBiUJF/downloaded_packages\n"
     ]
    }
   ],
   "source": [
    "install.packages(\"data.table\")"
   ]
  },
  {
   "cell_type": "code",
   "execution_count": 42,
   "metadata": {},
   "outputs": [],
   "source": [
    "\n",
    "circos.par(\"track.height\" = 0.2)"
   ]
  },
  {
   "cell_type": "code",
   "execution_count": 43,
   "metadata": {},
   "outputs": [],
   "source": [
    "chromosomes <- fread(\"SV_altgenos_500kb.bed\")"
   ]
  },
  {
   "cell_type": "code",
   "execution_count": 44,
   "metadata": {},
   "outputs": [],
   "source": [
    "del_data <- fread(\"yesmaybe_DEL_curator1_processed.csv\")"
   ]
  },
  {
   "cell_type": "code",
   "execution_count": 45,
   "metadata": {},
   "outputs": [],
   "source": [
    "dup_data <- fread(\"yesmaybe_DUP_curator1_processed.csv\")"
   ]
  },
  {
   "cell_type": "code",
   "execution_count": 46,
   "metadata": {},
   "outputs": [],
   "source": [
    "inv_data <- fread(\"yesmaybe_INV_curator1_processed.csv\")"
   ]
  },
  {
   "cell_type": "code",
   "execution_count": 27,
   "metadata": {},
   "outputs": [],
   "source": [
    "dup_density <- genomicDensity(dup_data,window.size = 5e6)"
   ]
  },
  {
   "cell_type": "code",
   "execution_count": 1,
   "metadata": {},
   "outputs": [
    {
     "data": {
      "text/html": [
       "'/Users/gabrieldavid/Downloads/PlotCritic/PlotCritic/PlotCritic/House-Sparrow-Genome-Analysis'"
      ],
      "text/latex": [
       "'/Users/gabrieldavid/Downloads/PlotCritic/PlotCritic/PlotCritic/House-Sparrow-Genome-Analysis'"
      ],
      "text/markdown": [
       "'/Users/gabrieldavid/Downloads/PlotCritic/PlotCritic/PlotCritic/House-Sparrow-Genome-Analysis'"
      ],
      "text/plain": [
       "[1] \"/Users/gabrieldavid/Downloads/PlotCritic/PlotCritic/PlotCritic/House-Sparrow-Genome-Analysis\""
      ]
     },
     "metadata": {},
     "output_type": "display_data"
    }
   ],
   "source": [
    "getwd()"
   ]
  },
  {
   "cell_type": "code",
   "execution_count": 30,
   "metadata": {},
   "outputs": [
    {
     "data": {
      "text/html": [
       "<table>\n",
       "<caption>A data.frame: 330 × 4</caption>\n",
       "<thead>\n",
       "\t<tr><th scope=col>chr</th><th scope=col>start</th><th scope=col>end</th><th scope=col>value</th></tr>\n",
       "\t<tr><th scope=col>&lt;fct&gt;</th><th scope=col>&lt;int&gt;</th><th scope=col>&lt;int&gt;</th><th scope=col>&lt;dbl&gt;</th></tr>\n",
       "</thead>\n",
       "<tbody>\n",
       "\t<tr><td>CM004525.1</td><td>       1</td><td> 5000000</td><td>0.0006750</td></tr>\n",
       "\t<tr><td>CM004525.1</td><td> 2500001</td><td> 7500000</td><td>0.0005480</td></tr>\n",
       "\t<tr><td>CM004525.1</td><td> 5000001</td><td>10000000</td><td>0.0000248</td></tr>\n",
       "\t<tr><td>CM004525.1</td><td> 7500001</td><td>12500000</td><td>0.0000360</td></tr>\n",
       "\t<tr><td>CM004525.1</td><td>10000001</td><td>15000000</td><td>0.0000360</td></tr>\n",
       "\t<tr><td>CM004525.1</td><td>12500001</td><td>17500000</td><td>0.0005354</td></tr>\n",
       "\t<tr><td>CM004525.1</td><td>15000001</td><td>20000000</td><td>0.0005354</td></tr>\n",
       "\t<tr><td>CM004525.1</td><td>17500001</td><td>22500000</td><td>0.0000000</td></tr>\n",
       "\t<tr><td>CM004525.1</td><td>20000001</td><td>25000000</td><td>0.0000000</td></tr>\n",
       "\t<tr><td>CM004525.1</td><td>22500001</td><td>27500000</td><td>0.0004984</td></tr>\n",
       "\t<tr><td>CM004525.1</td><td>25000001</td><td>30000000</td><td>0.0004984</td></tr>\n",
       "\t<tr><td>CM004525.1</td><td>27500001</td><td>32500000</td><td>0.0000000</td></tr>\n",
       "\t<tr><td>CM004525.1</td><td>30000001</td><td>35000000</td><td>0.0000532</td></tr>\n",
       "\t<tr><td>CM004525.1</td><td>32500001</td><td>37500000</td><td>0.0000532</td></tr>\n",
       "\t<tr><td>CM004525.1</td><td>35000001</td><td>40000000</td><td>0.0000444</td></tr>\n",
       "\t<tr><td>CM004525.1</td><td>37500001</td><td>42500000</td><td>0.0000444</td></tr>\n",
       "\t<tr><td>CM004525.1</td><td>40000001</td><td>45000000</td><td>0.0000000</td></tr>\n",
       "\t<tr><td>CM004525.1</td><td>42500001</td><td>47500000</td><td>0.0000000</td></tr>\n",
       "\t<tr><td>CM004525.1</td><td>45000001</td><td>50000000</td><td>0.0000000</td></tr>\n",
       "\t<tr><td>CM004525.1</td><td>47500001</td><td>52500000</td><td>0.0000346</td></tr>\n",
       "\t<tr><td>CM004525.1</td><td>50000001</td><td>55000000</td><td>0.0000346</td></tr>\n",
       "\t<tr><td>CM004525.1</td><td>52500001</td><td>57500000</td><td>0.0001544</td></tr>\n",
       "\t<tr><td>CM004525.1</td><td>55000001</td><td>60000000</td><td>0.0001544</td></tr>\n",
       "\t<tr><td>CM004525.1</td><td>57500001</td><td>62500000</td><td>0.0000000</td></tr>\n",
       "\t<tr><td>CM004525.1</td><td>60000001</td><td>65000000</td><td>0.0000336</td></tr>\n",
       "\t<tr><td>CM004527.1</td><td>       1</td><td> 5000000</td><td>0.0002442</td></tr>\n",
       "\t<tr><td>CM004527.1</td><td> 2500001</td><td> 7500000</td><td>0.0000000</td></tr>\n",
       "\t<tr><td>CM004527.1</td><td> 5000001</td><td>10000000</td><td>0.0000000</td></tr>\n",
       "\t<tr><td>CM004527.1</td><td> 7500001</td><td>12500000</td><td>0.0000000</td></tr>\n",
       "\t<tr><td>CM004527.1</td><td>10000001</td><td>15000000</td><td>0.0000000</td></tr>\n",
       "\t<tr><td>⋮</td><td>⋮</td><td>⋮</td><td>⋮</td></tr>\n",
       "\t<tr><td>CM004539.1</td><td> 7500001</td><td>12500000</td><td>0.0000000</td></tr>\n",
       "\t<tr><td>CM004539.1</td><td>10000001</td><td>15000000</td><td>0.0000268</td></tr>\n",
       "\t<tr><td>CM004539.1</td><td>12500001</td><td>17500000</td><td>0.0000268</td></tr>\n",
       "\t<tr><td>CM004540.1</td><td>       1</td><td> 5000000</td><td>0.0000290</td></tr>\n",
       "\t<tr><td>CM004540.1</td><td> 2500001</td><td> 7500000</td><td>0.0000000</td></tr>\n",
       "\t<tr><td>CM004540.1</td><td> 5000001</td><td>10000000</td><td>0.0000000</td></tr>\n",
       "\t<tr><td>CM004540.1</td><td> 7500001</td><td>12500000</td><td>0.0000000</td></tr>\n",
       "\t<tr><td>CM004540.1</td><td>10000001</td><td>15000000</td><td>0.0005034</td></tr>\n",
       "\t<tr><td>CM004540.1</td><td>12500001</td><td>17500000</td><td>0.0005964</td></tr>\n",
       "\t<tr><td>CM004541.1</td><td>       1</td><td> 5000000</td><td>0.0007058</td></tr>\n",
       "\t<tr><td>CM004541.1</td><td> 2500001</td><td> 7500000</td><td>0.0000234</td></tr>\n",
       "\t<tr><td>CM004541.1</td><td> 5000001</td><td>10000000</td><td>0.0002024</td></tr>\n",
       "\t<tr><td>CM004541.1</td><td> 7500001</td><td>12500000</td><td>0.0002276</td></tr>\n",
       "\t<tr><td>CM004541.1</td><td>10000001</td><td>15000000</td><td>0.0000252</td></tr>\n",
       "\t<tr><td>CM004542.1</td><td>       1</td><td> 5000000</td><td>0.0000232</td></tr>\n",
       "\t<tr><td>CM004542.1</td><td> 2500001</td><td> 7500000</td><td>0.0001868</td></tr>\n",
       "\t<tr><td>CM004542.1</td><td> 5000001</td><td>10000000</td><td>0.0002946</td></tr>\n",
       "\t<tr><td>CM004542.1</td><td> 7500001</td><td>12500000</td><td>0.0001078</td></tr>\n",
       "\t<tr><td>CM004544.1</td><td>       1</td><td> 5000000</td><td>0.0000000</td></tr>\n",
       "\t<tr><td>CM004544.1</td><td> 2500001</td><td> 7500000</td><td>0.0000192</td></tr>\n",
       "\t<tr><td>CM004544.1</td><td> 5000001</td><td>10000000</td><td>0.0014926</td></tr>\n",
       "\t<tr><td>CM004545.1</td><td>       1</td><td> 5000000</td><td>0.0003336</td></tr>\n",
       "\t<tr><td>CM004545.1</td><td> 2500001</td><td> 7500000</td><td>0.0002656</td></tr>\n",
       "\t<tr><td>CM004546.1</td><td>       1</td><td> 5000000</td><td>0.0001212</td></tr>\n",
       "\t<tr><td>CM004546.1</td><td> 2500001</td><td> 7500000</td><td>0.0000000</td></tr>\n",
       "\t<tr><td>CM004546.1</td><td> 5000001</td><td>10000000</td><td>0.2821576</td></tr>\n",
       "\t<tr><td>CM004546.1</td><td> 7500001</td><td>12500000</td><td>0.2821576</td></tr>\n",
       "\t<tr><td>CM004547.1</td><td>       1</td><td> 5000000</td><td>0.0007486</td></tr>\n",
       "\t<tr><td>CM004549.1</td><td>       1</td><td> 5000000</td><td>0.0015236</td></tr>\n",
       "\t<tr><td>CM004550.1</td><td>       1</td><td> 5000000</td><td>0.0007258</td></tr>\n",
       "</tbody>\n",
       "</table>\n"
      ],
      "text/latex": [
       "A data.frame: 330 × 4\n",
       "\\begin{tabular}{llll}\n",
       " chr & start & end & value\\\\\n",
       " <fct> & <int> & <int> & <dbl>\\\\\n",
       "\\hline\n",
       "\t CM004525.1 &        1 &  5000000 & 0.0006750\\\\\n",
       "\t CM004525.1 &  2500001 &  7500000 & 0.0005480\\\\\n",
       "\t CM004525.1 &  5000001 & 10000000 & 0.0000248\\\\\n",
       "\t CM004525.1 &  7500001 & 12500000 & 0.0000360\\\\\n",
       "\t CM004525.1 & 10000001 & 15000000 & 0.0000360\\\\\n",
       "\t CM004525.1 & 12500001 & 17500000 & 0.0005354\\\\\n",
       "\t CM004525.1 & 15000001 & 20000000 & 0.0005354\\\\\n",
       "\t CM004525.1 & 17500001 & 22500000 & 0.0000000\\\\\n",
       "\t CM004525.1 & 20000001 & 25000000 & 0.0000000\\\\\n",
       "\t CM004525.1 & 22500001 & 27500000 & 0.0004984\\\\\n",
       "\t CM004525.1 & 25000001 & 30000000 & 0.0004984\\\\\n",
       "\t CM004525.1 & 27500001 & 32500000 & 0.0000000\\\\\n",
       "\t CM004525.1 & 30000001 & 35000000 & 0.0000532\\\\\n",
       "\t CM004525.1 & 32500001 & 37500000 & 0.0000532\\\\\n",
       "\t CM004525.1 & 35000001 & 40000000 & 0.0000444\\\\\n",
       "\t CM004525.1 & 37500001 & 42500000 & 0.0000444\\\\\n",
       "\t CM004525.1 & 40000001 & 45000000 & 0.0000000\\\\\n",
       "\t CM004525.1 & 42500001 & 47500000 & 0.0000000\\\\\n",
       "\t CM004525.1 & 45000001 & 50000000 & 0.0000000\\\\\n",
       "\t CM004525.1 & 47500001 & 52500000 & 0.0000346\\\\\n",
       "\t CM004525.1 & 50000001 & 55000000 & 0.0000346\\\\\n",
       "\t CM004525.1 & 52500001 & 57500000 & 0.0001544\\\\\n",
       "\t CM004525.1 & 55000001 & 60000000 & 0.0001544\\\\\n",
       "\t CM004525.1 & 57500001 & 62500000 & 0.0000000\\\\\n",
       "\t CM004525.1 & 60000001 & 65000000 & 0.0000336\\\\\n",
       "\t CM004527.1 &        1 &  5000000 & 0.0002442\\\\\n",
       "\t CM004527.1 &  2500001 &  7500000 & 0.0000000\\\\\n",
       "\t CM004527.1 &  5000001 & 10000000 & 0.0000000\\\\\n",
       "\t CM004527.1 &  7500001 & 12500000 & 0.0000000\\\\\n",
       "\t CM004527.1 & 10000001 & 15000000 & 0.0000000\\\\\n",
       "\t ⋮ & ⋮ & ⋮ & ⋮\\\\\n",
       "\t CM004539.1 &  7500001 & 12500000 & 0.0000000\\\\\n",
       "\t CM004539.1 & 10000001 & 15000000 & 0.0000268\\\\\n",
       "\t CM004539.1 & 12500001 & 17500000 & 0.0000268\\\\\n",
       "\t CM004540.1 &        1 &  5000000 & 0.0000290\\\\\n",
       "\t CM004540.1 &  2500001 &  7500000 & 0.0000000\\\\\n",
       "\t CM004540.1 &  5000001 & 10000000 & 0.0000000\\\\\n",
       "\t CM004540.1 &  7500001 & 12500000 & 0.0000000\\\\\n",
       "\t CM004540.1 & 10000001 & 15000000 & 0.0005034\\\\\n",
       "\t CM004540.1 & 12500001 & 17500000 & 0.0005964\\\\\n",
       "\t CM004541.1 &        1 &  5000000 & 0.0007058\\\\\n",
       "\t CM004541.1 &  2500001 &  7500000 & 0.0000234\\\\\n",
       "\t CM004541.1 &  5000001 & 10000000 & 0.0002024\\\\\n",
       "\t CM004541.1 &  7500001 & 12500000 & 0.0002276\\\\\n",
       "\t CM004541.1 & 10000001 & 15000000 & 0.0000252\\\\\n",
       "\t CM004542.1 &        1 &  5000000 & 0.0000232\\\\\n",
       "\t CM004542.1 &  2500001 &  7500000 & 0.0001868\\\\\n",
       "\t CM004542.1 &  5000001 & 10000000 & 0.0002946\\\\\n",
       "\t CM004542.1 &  7500001 & 12500000 & 0.0001078\\\\\n",
       "\t CM004544.1 &        1 &  5000000 & 0.0000000\\\\\n",
       "\t CM004544.1 &  2500001 &  7500000 & 0.0000192\\\\\n",
       "\t CM004544.1 &  5000001 & 10000000 & 0.0014926\\\\\n",
       "\t CM004545.1 &        1 &  5000000 & 0.0003336\\\\\n",
       "\t CM004545.1 &  2500001 &  7500000 & 0.0002656\\\\\n",
       "\t CM004546.1 &        1 &  5000000 & 0.0001212\\\\\n",
       "\t CM004546.1 &  2500001 &  7500000 & 0.0000000\\\\\n",
       "\t CM004546.1 &  5000001 & 10000000 & 0.2821576\\\\\n",
       "\t CM004546.1 &  7500001 & 12500000 & 0.2821576\\\\\n",
       "\t CM004547.1 &        1 &  5000000 & 0.0007486\\\\\n",
       "\t CM004549.1 &        1 &  5000000 & 0.0015236\\\\\n",
       "\t CM004550.1 &        1 &  5000000 & 0.0007258\\\\\n",
       "\\end{tabular}\n"
      ],
      "text/markdown": [
       "\n",
       "A data.frame: 330 × 4\n",
       "\n",
       "| chr &lt;fct&gt; | start &lt;int&gt; | end &lt;int&gt; | value &lt;dbl&gt; |\n",
       "|---|---|---|---|\n",
       "| CM004525.1 |        1 |  5000000 | 0.0006750 |\n",
       "| CM004525.1 |  2500001 |  7500000 | 0.0005480 |\n",
       "| CM004525.1 |  5000001 | 10000000 | 0.0000248 |\n",
       "| CM004525.1 |  7500001 | 12500000 | 0.0000360 |\n",
       "| CM004525.1 | 10000001 | 15000000 | 0.0000360 |\n",
       "| CM004525.1 | 12500001 | 17500000 | 0.0005354 |\n",
       "| CM004525.1 | 15000001 | 20000000 | 0.0005354 |\n",
       "| CM004525.1 | 17500001 | 22500000 | 0.0000000 |\n",
       "| CM004525.1 | 20000001 | 25000000 | 0.0000000 |\n",
       "| CM004525.1 | 22500001 | 27500000 | 0.0004984 |\n",
       "| CM004525.1 | 25000001 | 30000000 | 0.0004984 |\n",
       "| CM004525.1 | 27500001 | 32500000 | 0.0000000 |\n",
       "| CM004525.1 | 30000001 | 35000000 | 0.0000532 |\n",
       "| CM004525.1 | 32500001 | 37500000 | 0.0000532 |\n",
       "| CM004525.1 | 35000001 | 40000000 | 0.0000444 |\n",
       "| CM004525.1 | 37500001 | 42500000 | 0.0000444 |\n",
       "| CM004525.1 | 40000001 | 45000000 | 0.0000000 |\n",
       "| CM004525.1 | 42500001 | 47500000 | 0.0000000 |\n",
       "| CM004525.1 | 45000001 | 50000000 | 0.0000000 |\n",
       "| CM004525.1 | 47500001 | 52500000 | 0.0000346 |\n",
       "| CM004525.1 | 50000001 | 55000000 | 0.0000346 |\n",
       "| CM004525.1 | 52500001 | 57500000 | 0.0001544 |\n",
       "| CM004525.1 | 55000001 | 60000000 | 0.0001544 |\n",
       "| CM004525.1 | 57500001 | 62500000 | 0.0000000 |\n",
       "| CM004525.1 | 60000001 | 65000000 | 0.0000336 |\n",
       "| CM004527.1 |        1 |  5000000 | 0.0002442 |\n",
       "| CM004527.1 |  2500001 |  7500000 | 0.0000000 |\n",
       "| CM004527.1 |  5000001 | 10000000 | 0.0000000 |\n",
       "| CM004527.1 |  7500001 | 12500000 | 0.0000000 |\n",
       "| CM004527.1 | 10000001 | 15000000 | 0.0000000 |\n",
       "| ⋮ | ⋮ | ⋮ | ⋮ |\n",
       "| CM004539.1 |  7500001 | 12500000 | 0.0000000 |\n",
       "| CM004539.1 | 10000001 | 15000000 | 0.0000268 |\n",
       "| CM004539.1 | 12500001 | 17500000 | 0.0000268 |\n",
       "| CM004540.1 |        1 |  5000000 | 0.0000290 |\n",
       "| CM004540.1 |  2500001 |  7500000 | 0.0000000 |\n",
       "| CM004540.1 |  5000001 | 10000000 | 0.0000000 |\n",
       "| CM004540.1 |  7500001 | 12500000 | 0.0000000 |\n",
       "| CM004540.1 | 10000001 | 15000000 | 0.0005034 |\n",
       "| CM004540.1 | 12500001 | 17500000 | 0.0005964 |\n",
       "| CM004541.1 |        1 |  5000000 | 0.0007058 |\n",
       "| CM004541.1 |  2500001 |  7500000 | 0.0000234 |\n",
       "| CM004541.1 |  5000001 | 10000000 | 0.0002024 |\n",
       "| CM004541.1 |  7500001 | 12500000 | 0.0002276 |\n",
       "| CM004541.1 | 10000001 | 15000000 | 0.0000252 |\n",
       "| CM004542.1 |        1 |  5000000 | 0.0000232 |\n",
       "| CM004542.1 |  2500001 |  7500000 | 0.0001868 |\n",
       "| CM004542.1 |  5000001 | 10000000 | 0.0002946 |\n",
       "| CM004542.1 |  7500001 | 12500000 | 0.0001078 |\n",
       "| CM004544.1 |        1 |  5000000 | 0.0000000 |\n",
       "| CM004544.1 |  2500001 |  7500000 | 0.0000192 |\n",
       "| CM004544.1 |  5000001 | 10000000 | 0.0014926 |\n",
       "| CM004545.1 |        1 |  5000000 | 0.0003336 |\n",
       "| CM004545.1 |  2500001 |  7500000 | 0.0002656 |\n",
       "| CM004546.1 |        1 |  5000000 | 0.0001212 |\n",
       "| CM004546.1 |  2500001 |  7500000 | 0.0000000 |\n",
       "| CM004546.1 |  5000001 | 10000000 | 0.2821576 |\n",
       "| CM004546.1 |  7500001 | 12500000 | 0.2821576 |\n",
       "| CM004547.1 |        1 |  5000000 | 0.0007486 |\n",
       "| CM004549.1 |        1 |  5000000 | 0.0015236 |\n",
       "| CM004550.1 |        1 |  5000000 | 0.0007258 |\n",
       "\n"
      ],
      "text/plain": [
       "    chr        start    end      value    \n",
       "1   CM004525.1        1  5000000 0.0006750\n",
       "2   CM004525.1  2500001  7500000 0.0005480\n",
       "3   CM004525.1  5000001 10000000 0.0000248\n",
       "4   CM004525.1  7500001 12500000 0.0000360\n",
       "5   CM004525.1 10000001 15000000 0.0000360\n",
       "6   CM004525.1 12500001 17500000 0.0005354\n",
       "7   CM004525.1 15000001 20000000 0.0005354\n",
       "8   CM004525.1 17500001 22500000 0.0000000\n",
       "9   CM004525.1 20000001 25000000 0.0000000\n",
       "10  CM004525.1 22500001 27500000 0.0004984\n",
       "11  CM004525.1 25000001 30000000 0.0004984\n",
       "12  CM004525.1 27500001 32500000 0.0000000\n",
       "13  CM004525.1 30000001 35000000 0.0000532\n",
       "14  CM004525.1 32500001 37500000 0.0000532\n",
       "15  CM004525.1 35000001 40000000 0.0000444\n",
       "16  CM004525.1 37500001 42500000 0.0000444\n",
       "17  CM004525.1 40000001 45000000 0.0000000\n",
       "18  CM004525.1 42500001 47500000 0.0000000\n",
       "19  CM004525.1 45000001 50000000 0.0000000\n",
       "20  CM004525.1 47500001 52500000 0.0000346\n",
       "21  CM004525.1 50000001 55000000 0.0000346\n",
       "22  CM004525.1 52500001 57500000 0.0001544\n",
       "23  CM004525.1 55000001 60000000 0.0001544\n",
       "24  CM004525.1 57500001 62500000 0.0000000\n",
       "25  CM004525.1 60000001 65000000 0.0000336\n",
       "26  CM004527.1        1  5000000 0.0002442\n",
       "27  CM004527.1  2500001  7500000 0.0000000\n",
       "28  CM004527.1  5000001 10000000 0.0000000\n",
       "29  CM004527.1  7500001 12500000 0.0000000\n",
       "30  CM004527.1 10000001 15000000 0.0000000\n",
       "⋮   ⋮          ⋮        ⋮        ⋮        \n",
       "301 CM004539.1  7500001 12500000 0.0000000\n",
       "302 CM004539.1 10000001 15000000 0.0000268\n",
       "303 CM004539.1 12500001 17500000 0.0000268\n",
       "304 CM004540.1        1  5000000 0.0000290\n",
       "305 CM004540.1  2500001  7500000 0.0000000\n",
       "306 CM004540.1  5000001 10000000 0.0000000\n",
       "307 CM004540.1  7500001 12500000 0.0000000\n",
       "308 CM004540.1 10000001 15000000 0.0005034\n",
       "309 CM004540.1 12500001 17500000 0.0005964\n",
       "310 CM004541.1        1  5000000 0.0007058\n",
       "311 CM004541.1  2500001  7500000 0.0000234\n",
       "312 CM004541.1  5000001 10000000 0.0002024\n",
       "313 CM004541.1  7500001 12500000 0.0002276\n",
       "314 CM004541.1 10000001 15000000 0.0000252\n",
       "315 CM004542.1        1  5000000 0.0000232\n",
       "316 CM004542.1  2500001  7500000 0.0001868\n",
       "317 CM004542.1  5000001 10000000 0.0002946\n",
       "318 CM004542.1  7500001 12500000 0.0001078\n",
       "319 CM004544.1        1  5000000 0.0000000\n",
       "320 CM004544.1  2500001  7500000 0.0000192\n",
       "321 CM004544.1  5000001 10000000 0.0014926\n",
       "322 CM004545.1        1  5000000 0.0003336\n",
       "323 CM004545.1  2500001  7500000 0.0002656\n",
       "324 CM004546.1        1  5000000 0.0001212\n",
       "325 CM004546.1  2500001  7500000 0.0000000\n",
       "326 CM004546.1  5000001 10000000 0.2821576\n",
       "327 CM004546.1  7500001 12500000 0.2821576\n",
       "328 CM004547.1        1  5000000 0.0007486\n",
       "329 CM004549.1        1  5000000 0.0015236\n",
       "330 CM004550.1        1  5000000 0.0007258"
      ]
     },
     "metadata": {},
     "output_type": "display_data"
    }
   ],
   "source": [
    "dup_density"
   ]
  },
  {
   "cell_type": "code",
   "execution_count": 33,
   "metadata": {},
   "outputs": [],
   "source": [
    "del_density <- genomicDensity(del_data,window.size = 5e6)"
   ]
  },
  {
   "cell_type": "code",
   "execution_count": 34,
   "metadata": {},
   "outputs": [],
   "source": [
    "write.csv(del_density,\"del_density.csv\", row.names = FALSE)"
   ]
  },
  {
   "cell_type": "code",
   "execution_count": 21,
   "metadata": {},
   "outputs": [],
   "source": [
    "inv_density <- genomicDensity(inv_data,window.size = 5e6)"
   ]
  },
  {
   "cell_type": "code",
   "execution_count": 35,
   "metadata": {},
   "outputs": [],
   "source": [
    "write.csv(inv_density,\"inv_density.csv\", row.names = FALSE)"
   ]
  },
  {
   "cell_type": "code",
   "execution_count": 36,
   "metadata": {},
   "outputs": [
    {
     "ename": "ERROR",
     "evalue": "Error: Since `gap.degree` parameter has length larger than 1, it should have\nsame length as the number of sectors.\n",
     "output_type": "error",
     "traceback": [
      "Error: Since `gap.degree` parameter has length larger than 1, it should have\nsame length as the number of sectors.\nTraceback:\n",
      "1. circos.genomicInitialize(chromosomes)",
      "2. circos.initialize(factor(fa, levels = fa), xlim = cbind(x1, x2), \n .     ...)",
      "3. stop_wrap(\"Since `gap.degree` parameter has length larger than 1, it should have same length as the number of sectors.\")",
      "4. stop(x, call. = FALSE)"
     ]
    }
   ],
   "source": []
  },
  {
   "cell_type": "code",
   "execution_count": 48,
   "metadata": {},
   "outputs": [
    {
     "ename": "ERROR",
     "evalue": "Error in max(sapply(df, function(gr) max(gr[[4]]))): invalid 'type' (list) of argument\n",
     "output_type": "error",
     "traceback": [
      "Error in max(sapply(df, function(gr) max(gr[[4]]))): invalid 'type' (list) of argument\nTraceback:\n",
      "1. circos.genomicDensity(dup_density, col = c(\"black\"), track.height = 0.25, \n .     window.size = 5e+06)"
     ]
    }
   ],
   "source": [
    "circos.genomicDensity(dup_density, col = c(\"black\"), track.height = 0.25,window.size = 5e6)"
   ]
  },
  {
   "cell_type": "code",
   "execution_count": 38,
   "metadata": {},
   "outputs": [
    {
     "ename": "ERROR",
     "evalue": "Error in max(sapply(df, function(gr) max(gr[[4]]))): invalid 'type' (list) of argument\n",
     "output_type": "error",
     "traceback": [
      "Error in max(sapply(df, function(gr) max(gr[[4]]))): invalid 'type' (list) of argument\nTraceback:\n",
      "1. circos.genomicDensity(dup_data, col = c(\"black\"), track.height = 0.25, \n .     window.size = 5e+06)"
     ]
    }
   ],
   "source": [
    "\n",
    "#duplications\n",
    "circos.genomicDensity(dup_data, col = c(\"black\"), track.height = 0.25,window.size = 5e6)\n",
    "circos.yaxis(side = \"left\", at = seq(0, 0.06, by = 0.06),\n",
    "             sector.index = get.all.sector.index()[1], \n",
    "             track.index=get.all.track.index()[2],\n",
    "             labels.cex = 0.4)\n",
    "\n",
    "\n",
    "circos.clear()\n",
    "\n",
    "dev.print(pdf,'duplications_deletions_inversions_50-50000kb_densities.pdf')\n",
    "dev.off()"
   ]
  },
  {
   "cell_type": "code",
   "execution_count": null,
   "metadata": {},
   "outputs": [],
   "source": []
  }
 ],
 "metadata": {
  "kernelspec": {
   "display_name": "R",
   "language": "R",
   "name": "ir"
  },
  "language_info": {
   "codemirror_mode": "r",
   "file_extension": ".r",
   "mimetype": "text/x-r-source",
   "name": "R",
   "pygments_lexer": "r",
   "version": "3.6.3"
  }
 },
 "nbformat": 4,
 "nbformat_minor": 4
}
