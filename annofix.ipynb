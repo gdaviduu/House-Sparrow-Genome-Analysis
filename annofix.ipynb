{
 "cells": [
  {
   "cell_type": "code",
   "execution_count": 1,
   "metadata": {},
   "outputs": [],
   "source": [
    "%%bash\n",
    "\n",
    "cat house_sparrow_genome_assembly-18-11-14_masked.fa.fai | awk '{ print $1 }' > chrmnames.txt\n",
    "\n",
    "cat GCA_001700915.1_Passer_domesticus-1.0_genomic.fasta.fai | awk '{ print $1 }' > chrmnamesnew.txt\n",
    "\n",
    "cat annotation.gff | awk '{ print $1 }' > anno.txt\n"
   ]
  },
  {
   "cell_type": "code",
   "execution_count": 2,
   "metadata": {},
   "outputs": [
    {
     "data": {
      "text/html": [
       "<div>\n",
       "<style scoped>\n",
       "    .dataframe tbody tr th:only-of-type {\n",
       "        vertical-align: middle;\n",
       "    }\n",
       "\n",
       "    .dataframe tbody tr th {\n",
       "        vertical-align: top;\n",
       "    }\n",
       "\n",
       "    .dataframe thead th {\n",
       "        text-align: right;\n",
       "    }\n",
       "</style>\n",
       "<table border=\"1\" class=\"dataframe\">\n",
       "  <thead>\n",
       "    <tr style=\"text-align: right;\">\n",
       "      <th></th>\n",
       "      <th>0</th>\n",
       "    </tr>\n",
       "  </thead>\n",
       "  <tbody>\n",
       "    <tr>\n",
       "      <th>0</th>\n",
       "      <td>scaffold00512</td>\n",
       "    </tr>\n",
       "    <tr>\n",
       "      <th>1</th>\n",
       "      <td>scaffold00512</td>\n",
       "    </tr>\n",
       "    <tr>\n",
       "      <th>2</th>\n",
       "      <td>scaffold00512</td>\n",
       "    </tr>\n",
       "    <tr>\n",
       "      <th>3</th>\n",
       "      <td>scaffold00512</td>\n",
       "    </tr>\n",
       "    <tr>\n",
       "      <th>4</th>\n",
       "      <td>scaffold00512</td>\n",
       "    </tr>\n",
       "    <tr>\n",
       "      <th>...</th>\n",
       "      <td>...</td>\n",
       "    </tr>\n",
       "    <tr>\n",
       "      <th>269121</th>\n",
       "      <td>scaffold00442</td>\n",
       "    </tr>\n",
       "    <tr>\n",
       "      <th>269122</th>\n",
       "      <td>scaffold00442</td>\n",
       "    </tr>\n",
       "    <tr>\n",
       "      <th>269123</th>\n",
       "      <td>scaffold00442</td>\n",
       "    </tr>\n",
       "    <tr>\n",
       "      <th>269124</th>\n",
       "      <td>scaffold00442</td>\n",
       "    </tr>\n",
       "    <tr>\n",
       "      <th>269125</th>\n",
       "      <td>scaffold00442</td>\n",
       "    </tr>\n",
       "  </tbody>\n",
       "</table>\n",
       "<p>269126 rows × 1 columns</p>\n",
       "</div>"
      ],
      "text/plain": [
       "                    0\n",
       "0       scaffold00512\n",
       "1       scaffold00512\n",
       "2       scaffold00512\n",
       "3       scaffold00512\n",
       "4       scaffold00512\n",
       "...               ...\n",
       "269121  scaffold00442\n",
       "269122  scaffold00442\n",
       "269123  scaffold00442\n",
       "269124  scaffold00442\n",
       "269125  scaffold00442\n",
       "\n",
       "[269126 rows x 1 columns]"
      ]
     },
     "execution_count": 2,
     "metadata": {},
     "output_type": "execute_result"
    }
   ],
   "source": [
    "#First convert the two fasta indices into lists\n",
    "import numpy as np\n",
    "import pandas as pd\n",
    "\n",
    "df1 = pd.read_csv(\"chrmnames.txt\", header = None)\n",
    "\n",
    "df2 = pd.read_csv(\"chrmnamesnew.txt\", header = None)\n",
    "\n",
    "anno = pd.read_csv(\"anno.txt\", header = None)\n",
    "anno"
   ]
  },
  {
   "cell_type": "code",
   "execution_count": 3,
   "metadata": {},
   "outputs": [],
   "source": [
    "chrm = df1.iloc[:, 0].tolist()"
   ]
  },
  {
   "cell_type": "code",
   "execution_count": 17,
   "metadata": {},
   "outputs": [
    {
     "data": {
      "text/plain": [
       "0      scaffold00512\n",
       "1      scaffold00512\n",
       "2      scaffold00512\n",
       "3      scaffold00512\n",
       "4      scaffold00512\n",
       "           ...      \n",
       "995             chr9\n",
       "996             chr9\n",
       "997             chr9\n",
       "998             chr9\n",
       "999             chr9\n",
       "Name: 0, Length: 1000, dtype: object"
      ]
     },
     "execution_count": 17,
     "metadata": {},
     "output_type": "execute_result"
    }
   ],
   "source": [
    "chrmnew = df2.iloc[:, 0].tolist()\n",
    "\n",
    "annochrm = anno.iloc[:,0]\n",
    "\n",
    "chrmdict = dict(zip(chrm, chrmnew))\n",
    "annochrm2 = annochrm.iloc[0:1000,]\n",
    "annochrm2"
   ]
  },
  {
   "cell_type": "code",
   "execution_count": 20,
   "metadata": {},
   "outputs": [],
   "source": [
    "\n",
    "annonew = annochrm.replace(chrmdict, regex=False)"
   ]
  },
  {
   "cell_type": "code",
   "execution_count": 21,
   "metadata": {},
   "outputs": [
    {
     "data": {
      "text/plain": [
       "0         MBAE01000501.1\n",
       "1         MBAE01000501.1\n",
       "2         MBAE01000501.1\n",
       "3         MBAE01000501.1\n",
       "4         MBAE01000501.1\n",
       "               ...      \n",
       "269121    MBAE01000432.1\n",
       "269122    MBAE01000432.1\n",
       "269123    MBAE01000432.1\n",
       "269124    MBAE01000432.1\n",
       "269125    MBAE01000432.1\n",
       "Name: 0, Length: 269126, dtype: object"
      ]
     },
     "execution_count": 21,
     "metadata": {},
     "output_type": "execute_result"
    }
   ],
   "source": [
    "annonew"
   ]
  },
  {
   "cell_type": "code",
   "execution_count": 22,
   "metadata": {},
   "outputs": [],
   "source": [
    "annonew.to_csv('annonew.txt', header=None, index=None, sep=' ', mode='a')"
   ]
  },
  {
   "cell_type": "code",
   "execution_count": 23,
   "metadata": {},
   "outputs": [
    {
     "name": "stdout",
     "output_type": "stream",
     "text": [
      "MBAE01000501.1\n",
      "MBAE01000501.1\n",
      "MBAE01000501.1\n",
      "MBAE01000501.1\n",
      "MBAE01000501.1\n",
      "MBAE01000501.1\n",
      "MBAE01000501.1\n",
      "MBAE01000501.1\n",
      "MBAE01000501.1\n",
      "MBAE01000501.1\n",
      "cat: stdout: Broken pipe\n"
     ]
    }
   ],
   "source": [
    "cat annonew.txt  "
   ]
  },
  {
   "cell_type": "code",
   "execution_count": 30,
   "metadata": {},
   "outputs": [],
   "source": [
    "%%bash\n",
    "awk 'BEGIN {FS=OFS=\"|\"}NR == FNR {a[FNR] = $B;next}{$A = a[FNR];print $0}' B=1 A=1 annonew.txt annotation.gff > annofixed.txt"
   ]
  },
  {
   "cell_type": "code",
   "execution_count": null,
   "metadata": {},
   "outputs": [],
   "source": []
  }
 ],
 "metadata": {
  "kernelspec": {
   "display_name": "Python 3",
   "language": "python",
   "name": "python3"
  },
  "language_info": {
   "codemirror_mode": {
    "name": "ipython",
    "version": 3
   },
   "file_extension": ".py",
   "mimetype": "text/x-python",
   "name": "python",
   "nbconvert_exporter": "python",
   "pygments_lexer": "ipython3",
   "version": "3.7.9"
  }
 },
 "nbformat": 4,
 "nbformat_minor": 4
}
