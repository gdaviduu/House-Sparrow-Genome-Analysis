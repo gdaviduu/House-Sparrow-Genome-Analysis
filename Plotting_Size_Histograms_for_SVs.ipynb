{
 "cells": [
  {
   "cell_type": "code",
   "execution_count": 728,
   "metadata": {},
   "outputs": [],
   "source": [
    "import numpy as np\n",
    "import pandas as pd\n",
    "import matplotlib.pyplot as plt\n",
    "import matplotlib.patches as mpatches\n",
    "import sidetable as stb"
   ]
  },
  {
   "cell_type": "code",
   "execution_count": 939,
   "metadata": {},
   "outputs": [],
   "source": [
    "#cat  yes_DUP_processed.bed > yesmaybeDUP_curator1_dec292020.csv"
   ]
  },
  {
   "cell_type": "code",
   "execution_count": 940,
   "metadata": {},
   "outputs": [],
   "source": [
    "df = pd.read_csv(\"uncuratedINV.csv\", \n",
    "                  names=[\"Chrom\", \"Start\", \"Stop\"])"
   ]
  },
  {
   "cell_type": "code",
   "execution_count": 941,
   "metadata": {},
   "outputs": [],
   "source": [
    "#cat yesallintersectDUP.txt | sed 's/_/ /g' | sed 's/ /,/g' > yesallintersectDUP.csv"
   ]
  },
  {
   "cell_type": "code",
   "execution_count": 942,
   "metadata": {},
   "outputs": [
    {
     "data": {
      "text/html": [
       "<div>\n",
       "<style scoped>\n",
       "    .dataframe tbody tr th:only-of-type {\n",
       "        vertical-align: middle;\n",
       "    }\n",
       "\n",
       "    .dataframe tbody tr th {\n",
       "        vertical-align: top;\n",
       "    }\n",
       "\n",
       "    .dataframe thead th {\n",
       "        text-align: right;\n",
       "    }\n",
       "</style>\n",
       "<table border=\"1\" class=\"dataframe\">\n",
       "  <thead>\n",
       "    <tr style=\"text-align: right;\">\n",
       "      <th></th>\n",
       "      <th>Chrom</th>\n",
       "      <th>Start</th>\n",
       "      <th>Stop</th>\n",
       "    </tr>\n",
       "  </thead>\n",
       "  <tbody>\n",
       "    <tr>\n",
       "      <th>0</th>\n",
       "      <td>CM004525.1</td>\n",
       "      <td>150160</td>\n",
       "      <td>257129</td>\n",
       "    </tr>\n",
       "    <tr>\n",
       "      <th>1</th>\n",
       "      <td>CM004525.1</td>\n",
       "      <td>259508</td>\n",
       "      <td>456059</td>\n",
       "    </tr>\n",
       "    <tr>\n",
       "      <th>2</th>\n",
       "      <td>CM004525.1</td>\n",
       "      <td>2218132</td>\n",
       "      <td>2470939</td>\n",
       "    </tr>\n",
       "    <tr>\n",
       "      <th>3</th>\n",
       "      <td>CM004525.1</td>\n",
       "      <td>3555387</td>\n",
       "      <td>3555450</td>\n",
       "    </tr>\n",
       "    <tr>\n",
       "      <th>4</th>\n",
       "      <td>CM004525.1</td>\n",
       "      <td>4361724</td>\n",
       "      <td>4361789</td>\n",
       "    </tr>\n",
       "    <tr>\n",
       "      <th>...</th>\n",
       "      <td>...</td>\n",
       "      <td>...</td>\n",
       "      <td>...</td>\n",
       "    </tr>\n",
       "    <tr>\n",
       "      <th>1183</th>\n",
       "      <td>CM004553.1</td>\n",
       "      <td>1148915</td>\n",
       "      <td>1157434</td>\n",
       "    </tr>\n",
       "    <tr>\n",
       "      <th>1184</th>\n",
       "      <td>CM004553.1</td>\n",
       "      <td>1149307</td>\n",
       "      <td>1157059</td>\n",
       "    </tr>\n",
       "    <tr>\n",
       "      <th>1185</th>\n",
       "      <td>CM004554.1</td>\n",
       "      <td>245135</td>\n",
       "      <td>245177</td>\n",
       "    </tr>\n",
       "    <tr>\n",
       "      <th>1186</th>\n",
       "      <td>CM004554.1</td>\n",
       "      <td>845370</td>\n",
       "      <td>845469</td>\n",
       "    </tr>\n",
       "    <tr>\n",
       "      <th>1187</th>\n",
       "      <td>CM004554.1</td>\n",
       "      <td>1970196</td>\n",
       "      <td>2204956</td>\n",
       "    </tr>\n",
       "  </tbody>\n",
       "</table>\n",
       "<p>1188 rows × 3 columns</p>\n",
       "</div>"
      ],
      "text/plain": [
       "           Chrom    Start     Stop\n",
       "0     CM004525.1   150160   257129\n",
       "1     CM004525.1   259508   456059\n",
       "2     CM004525.1  2218132  2470939\n",
       "3     CM004525.1  3555387  3555450\n",
       "4     CM004525.1  4361724  4361789\n",
       "...          ...      ...      ...\n",
       "1183  CM004553.1  1148915  1157434\n",
       "1184  CM004553.1  1149307  1157059\n",
       "1185  CM004554.1   245135   245177\n",
       "1186  CM004554.1   845370   845469\n",
       "1187  CM004554.1  1970196  2204956\n",
       "\n",
       "[1188 rows x 3 columns]"
      ]
     },
     "execution_count": 942,
     "metadata": {},
     "output_type": "execute_result"
    }
   ],
   "source": [
    "df"
   ]
  },
  {
   "cell_type": "code",
   "execution_count": 904,
   "metadata": {},
   "outputs": [],
   "source": [
    "df['Size']=df['Stop']-df['Start']"
   ]
  },
  {
   "cell_type": "code",
   "execution_count": 905,
   "metadata": {},
   "outputs": [],
   "source": [
    "Size = df['Size'].tolist()\n",
    "s = sorted(Size)"
   ]
  },
  {
   "cell_type": "code",
   "execution_count": 906,
   "metadata": {},
   "outputs": [
    {
     "data": {
      "text/plain": [
       "2121873"
      ]
     },
     "execution_count": 906,
     "metadata": {},
     "output_type": "execute_result"
    }
   ],
   "source": [
    "max = df['Size'].max()\n",
    "max"
   ]
  },
  {
   "cell_type": "code",
   "execution_count": 907,
   "metadata": {},
   "outputs": [
    {
     "data": {
      "text/plain": [
       "95"
      ]
     },
     "execution_count": 907,
     "metadata": {},
     "output_type": "execute_result"
    }
   ],
   "source": [
    "min = df['Size'].min()\n",
    "min"
   ]
  },
  {
   "cell_type": "code",
   "execution_count": 908,
   "metadata": {},
   "outputs": [
    {
     "data": {
      "text/plain": [
       "13290.170731707318"
      ]
     },
     "execution_count": 908,
     "metadata": {},
     "output_type": "execute_result"
    }
   ],
   "source": [
    "Mean = df['Size'].mean()\n",
    "Mean"
   ]
  },
  {
   "cell_type": "code",
   "execution_count": 909,
   "metadata": {},
   "outputs": [
    {
     "data": {
      "text/plain": [
       "345.0"
      ]
     },
     "execution_count": 909,
     "metadata": {},
     "output_type": "execute_result"
    }
   ],
   "source": [
    "median = df['Size'].median()\n",
    "median"
   ]
  },
  {
   "cell_type": "code",
   "execution_count": 910,
   "metadata": {},
   "outputs": [
    {
     "data": {
      "text/plain": [
       "287"
      ]
     },
     "execution_count": 910,
     "metadata": {},
     "output_type": "execute_result"
    }
   ],
   "source": [
    "count = df['Size'].count()\n",
    "count"
   ]
  },
  {
   "cell_type": "code",
   "execution_count": 911,
   "metadata": {},
   "outputs": [
    {
     "data": {
      "text/html": [
       "<div>\n",
       "<style scoped>\n",
       "    .dataframe tbody tr th:only-of-type {\n",
       "        vertical-align: middle;\n",
       "    }\n",
       "\n",
       "    .dataframe tbody tr th {\n",
       "        vertical-align: top;\n",
       "    }\n",
       "\n",
       "    .dataframe thead th {\n",
       "        text-align: right;\n",
       "    }\n",
       "</style>\n",
       "<table border=\"1\" class=\"dataframe\">\n",
       "  <thead>\n",
       "    <tr style=\"text-align: right;\">\n",
       "      <th></th>\n",
       "      <th>Rejected_Deletions</th>\n",
       "    </tr>\n",
       "  </thead>\n",
       "  <tbody>\n",
       "    <tr>\n",
       "      <th>Max length</th>\n",
       "      <td>4482951.0</td>\n",
       "    </tr>\n",
       "    <tr>\n",
       "      <th>Min length</th>\n",
       "      <td>23.0</td>\n",
       "    </tr>\n",
       "    <tr>\n",
       "      <th>Mean length</th>\n",
       "      <td>11273.0</td>\n",
       "    </tr>\n",
       "    <tr>\n",
       "      <th>Median length</th>\n",
       "      <td>376.0</td>\n",
       "    </tr>\n",
       "    <tr>\n",
       "      <th>Count</th>\n",
       "      <td>13324.0</td>\n",
       "    </tr>\n",
       "  </tbody>\n",
       "</table>\n",
       "</div>"
      ],
      "text/plain": [
       "               Rejected_Deletions\n",
       "Max length              4482951.0\n",
       "Min length                   23.0\n",
       "Mean length               11273.0\n",
       "Median length               376.0\n",
       "Count                     13324.0"
      ]
     },
     "execution_count": 911,
     "metadata": {},
     "output_type": "execute_result"
    }
   ],
   "source": [
    "#d = {'Rejected_Deletions': [max, min, Mean, median, count]}\n",
    "#df = pd.DataFrame(data=d, index=['Max length', 'Min length', 'Mean length','Median length', 'Count'])\n",
    "\n",
    "#rejecteddels = pd.DataFrame(data=d)\n",
    "\n",
    "#rejecteddels= df.round()\n",
    "rejecteddels"
   ]
  },
  {
   "cell_type": "code",
   "execution_count": 912,
   "metadata": {},
   "outputs": [
    {
     "data": {
      "text/html": [
       "<div>\n",
       "<style scoped>\n",
       "    .dataframe tbody tr th:only-of-type {\n",
       "        vertical-align: middle;\n",
       "    }\n",
       "\n",
       "    .dataframe tbody tr th {\n",
       "        vertical-align: top;\n",
       "    }\n",
       "\n",
       "    .dataframe thead th {\n",
       "        text-align: right;\n",
       "    }\n",
       "</style>\n",
       "<table border=\"1\" class=\"dataframe\">\n",
       "  <thead>\n",
       "    <tr style=\"text-align: right;\">\n",
       "      <th></th>\n",
       "      <th>Uncurated DEL</th>\n",
       "    </tr>\n",
       "  </thead>\n",
       "  <tbody>\n",
       "    <tr>\n",
       "      <th>Max length</th>\n",
       "      <td>142501103.0</td>\n",
       "    </tr>\n",
       "    <tr>\n",
       "      <th>Min length</th>\n",
       "      <td>23.0</td>\n",
       "    </tr>\n",
       "    <tr>\n",
       "      <th>Mean length</th>\n",
       "      <td>319153.0</td>\n",
       "    </tr>\n",
       "    <tr>\n",
       "      <th>Median length</th>\n",
       "      <td>376.0</td>\n",
       "    </tr>\n",
       "    <tr>\n",
       "      <th>Count</th>\n",
       "      <td>15029.0</td>\n",
       "    </tr>\n",
       "  </tbody>\n",
       "</table>\n",
       "</div>"
      ],
      "text/plain": [
       "               Uncurated DEL\n",
       "Max length       142501103.0\n",
       "Min length              23.0\n",
       "Mean length         319153.0\n",
       "Median length          376.0\n",
       "Count                15029.0"
      ]
     },
     "execution_count": 912,
     "metadata": {},
     "output_type": "execute_result"
    }
   ],
   "source": [
    "#d = {'Uncurated DEL': [max, min, Mean, median, count]}\n",
    "#df = pd.DataFrame(data=d, index=['Max length', 'Min length', 'Mean length','Median length', 'Count'])\n",
    "\n",
    "#uncurateddels = pd.DataFrame(data=d)\n",
    "\n",
    "#uncurateddels = df.round()\n",
    "uncurateddels"
   ]
  },
  {
   "cell_type": "code",
   "execution_count": 913,
   "metadata": {},
   "outputs": [
    {
     "data": {
      "text/html": [
       "<div>\n",
       "<style scoped>\n",
       "    .dataframe tbody tr th:only-of-type {\n",
       "        vertical-align: middle;\n",
       "    }\n",
       "\n",
       "    .dataframe tbody tr th {\n",
       "        vertical-align: top;\n",
       "    }\n",
       "\n",
       "    .dataframe thead th {\n",
       "        text-align: right;\n",
       "    }\n",
       "</style>\n",
       "<table border=\"1\" class=\"dataframe\">\n",
       "  <thead>\n",
       "    <tr style=\"text-align: right;\">\n",
       "      <th></th>\n",
       "      <th>Curated DEL</th>\n",
       "    </tr>\n",
       "  </thead>\n",
       "  <tbody>\n",
       "    <tr>\n",
       "      <th>Max length</th>\n",
       "      <td>6096.0</td>\n",
       "    </tr>\n",
       "    <tr>\n",
       "      <th>Min length</th>\n",
       "      <td>25.0</td>\n",
       "    </tr>\n",
       "    <tr>\n",
       "      <th>Mean length</th>\n",
       "      <td>259.9</td>\n",
       "    </tr>\n",
       "    <tr>\n",
       "      <th>Median length</th>\n",
       "      <td>109.0</td>\n",
       "    </tr>\n",
       "    <tr>\n",
       "      <th>Count</th>\n",
       "      <td>1243.0</td>\n",
       "    </tr>\n",
       "  </tbody>\n",
       "</table>\n",
       "</div>"
      ],
      "text/plain": [
       "               Curated DEL\n",
       "Max length          6096.0\n",
       "Min length            25.0\n",
       "Mean length          259.9\n",
       "Median length        109.0\n",
       "Count               1243.0"
      ]
     },
     "execution_count": 913,
     "metadata": {},
     "output_type": "execute_result"
    }
   ],
   "source": [
    "#d = {'Curated DEL': [max, min, Mean, median, count]}\n",
    "#df = pd.DataFrame(data=d, index=['Max length', 'Min length', 'Mean length','Median length', 'Count'])\n",
    "\n",
    "\n",
    "#yesalldels = pd.DataFrame(data=d)\n",
    "#yesalldels = df.round(1)\n",
    "yesalldels"
   ]
  },
  {
   "cell_type": "code",
   "execution_count": 914,
   "metadata": {},
   "outputs": [
    {
     "data": {
      "text/html": [
       "<div>\n",
       "<style scoped>\n",
       "    .dataframe tbody tr th:only-of-type {\n",
       "        vertical-align: middle;\n",
       "    }\n",
       "\n",
       "    .dataframe tbody tr th {\n",
       "        vertical-align: top;\n",
       "    }\n",
       "\n",
       "    .dataframe thead th {\n",
       "        text-align: right;\n",
       "    }\n",
       "</style>\n",
       "<table border=\"1\" class=\"dataframe\">\n",
       "  <thead>\n",
       "    <tr style=\"text-align: right;\">\n",
       "      <th></th>\n",
       "      <th>Curated DEL 1cur</th>\n",
       "    </tr>\n",
       "  </thead>\n",
       "  <tbody>\n",
       "    <tr>\n",
       "      <th>Max length</th>\n",
       "      <td>6096.0</td>\n",
       "    </tr>\n",
       "    <tr>\n",
       "      <th>Min length</th>\n",
       "      <td>25.0</td>\n",
       "    </tr>\n",
       "    <tr>\n",
       "      <th>Mean length</th>\n",
       "      <td>256.7</td>\n",
       "    </tr>\n",
       "    <tr>\n",
       "      <th>Median length</th>\n",
       "      <td>106.0</td>\n",
       "    </tr>\n",
       "    <tr>\n",
       "      <th>Count</th>\n",
       "      <td>2457.0</td>\n",
       "    </tr>\n",
       "  </tbody>\n",
       "</table>\n",
       "</div>"
      ],
      "text/plain": [
       "               Curated DEL 1cur\n",
       "Max length               6096.0\n",
       "Min length                 25.0\n",
       "Mean length               256.7\n",
       "Median length             106.0\n",
       "Count                    2457.0"
      ]
     },
     "execution_count": 914,
     "metadata": {},
     "output_type": "execute_result"
    }
   ],
   "source": [
    "#d = {'Curated DEL 1cur': [max, min, Mean, median, count]}\n",
    "#df = pd.DataFrame(data=d, index=['Max length', 'Min length', 'Mean length','Median length', 'Count'])\n",
    "\n",
    "#curateddelsG = pd.DataFrame(data=d)\n",
    "#curateddelsG = df.round(1)\n",
    "curateddelsG"
   ]
  },
  {
   "cell_type": "code",
   "execution_count": 915,
   "metadata": {},
   "outputs": [
    {
     "data": {
      "text/html": [
       "<div>\n",
       "<style scoped>\n",
       "    .dataframe tbody tr th:only-of-type {\n",
       "        vertical-align: middle;\n",
       "    }\n",
       "\n",
       "    .dataframe tbody tr th {\n",
       "        vertical-align: top;\n",
       "    }\n",
       "\n",
       "    .dataframe thead th {\n",
       "        text-align: right;\n",
       "    }\n",
       "</style>\n",
       "<table border=\"1\" class=\"dataframe\">\n",
       "  <thead>\n",
       "    <tr style=\"text-align: right;\">\n",
       "      <th></th>\n",
       "      <th>Curated_Inversions_G</th>\n",
       "    </tr>\n",
       "  </thead>\n",
       "  <tbody>\n",
       "    <tr>\n",
       "      <th>Max length</th>\n",
       "      <td>2057.0</td>\n",
       "    </tr>\n",
       "    <tr>\n",
       "      <th>Min length</th>\n",
       "      <td>37.0</td>\n",
       "    </tr>\n",
       "    <tr>\n",
       "      <th>Mean length</th>\n",
       "      <td>87.4</td>\n",
       "    </tr>\n",
       "    <tr>\n",
       "      <th>Median length</th>\n",
       "      <td>376.0</td>\n",
       "    </tr>\n",
       "    <tr>\n",
       "      <th>Count</th>\n",
       "      <td>177.0</td>\n",
       "    </tr>\n",
       "  </tbody>\n",
       "</table>\n",
       "</div>"
      ],
      "text/plain": [
       "               Curated_Inversions_G\n",
       "Max length                   2057.0\n",
       "Min length                     37.0\n",
       "Mean length                    87.4\n",
       "Median length                 376.0\n",
       "Count                         177.0"
      ]
     },
     "execution_count": 915,
     "metadata": {},
     "output_type": "execute_result"
    }
   ],
   "source": [
    "#d = {'Curated_Inversions_G': [max, min, Mean, median, count]}\n",
    "#df = pd.DataFrame(data=d, index=['Max length', 'Min length', 'Mean length','Median length', 'Count'])\n",
    "\n",
    "#curatedinvsG = pd.DataFrame(data=d)\n",
    "#curatedinvsG = df.round(1)\n",
    "curatedinvsG"
   ]
  },
  {
   "cell_type": "code",
   "execution_count": 918,
   "metadata": {},
   "outputs": [
    {
     "data": {
      "text/html": [
       "<div>\n",
       "<style scoped>\n",
       "    .dataframe tbody tr th:only-of-type {\n",
       "        vertical-align: middle;\n",
       "    }\n",
       "\n",
       "    .dataframe tbody tr th {\n",
       "        vertical-align: top;\n",
       "    }\n",
       "\n",
       "    .dataframe thead th {\n",
       "        text-align: right;\n",
       "    }\n",
       "</style>\n",
       "<table border=\"1\" class=\"dataframe\">\n",
       "  <thead>\n",
       "    <tr style=\"text-align: right;\">\n",
       "      <th></th>\n",
       "      <th>Curated DUP 1cur</th>\n",
       "    </tr>\n",
       "  </thead>\n",
       "  <tbody>\n",
       "    <tr>\n",
       "      <th>Max length</th>\n",
       "      <td>2121873.0</td>\n",
       "    </tr>\n",
       "    <tr>\n",
       "      <th>Min length</th>\n",
       "      <td>95.0</td>\n",
       "    </tr>\n",
       "    <tr>\n",
       "      <th>Mean length</th>\n",
       "      <td>13290.2</td>\n",
       "    </tr>\n",
       "    <tr>\n",
       "      <th>Median length</th>\n",
       "      <td>345.0</td>\n",
       "    </tr>\n",
       "    <tr>\n",
       "      <th>Count</th>\n",
       "      <td>287.0</td>\n",
       "    </tr>\n",
       "  </tbody>\n",
       "</table>\n",
       "</div>"
      ],
      "text/plain": [
       "               Curated DUP 1cur\n",
       "Max length            2121873.0\n",
       "Min length                 95.0\n",
       "Mean length             13290.2\n",
       "Median length             345.0\n",
       "Count                     287.0"
      ]
     },
     "execution_count": 918,
     "metadata": {},
     "output_type": "execute_result"
    }
   ],
   "source": [
    "#d = {'Curated DUP 1cur': [max, min, Mean, median, count]}\n",
    "#df = pd.DataFrame(data=d, index=['Max length', 'Min length', 'Mean length','Median length', 'Count'])\n",
    "\n",
    "#curateddupsG = pd.DataFrame(data=d)\n",
    "#curateddupsG = df.round(1)\n",
    "curateddupsG"
   ]
  },
  {
   "cell_type": "code",
   "execution_count": 919,
   "metadata": {},
   "outputs": [],
   "source": [
    "#d = {'Curated INV': [max, min, Mean, median, count]}\n",
    "#df = pd.DataFrame(data=d, index=['Max length', 'Min length', 'Mean length','Median length', 'Count'])\n",
    "\n",
    "#curatedinvs = pd.DataFrame(data=d)\n",
    "#curatedinvs = df.round(1)\n",
    "#curatedinvs"
   ]
  },
  {
   "cell_type": "code",
   "execution_count": 920,
   "metadata": {},
   "outputs": [
    {
     "data": {
      "text/html": [
       "<div>\n",
       "<style scoped>\n",
       "    .dataframe tbody tr th:only-of-type {\n",
       "        vertical-align: middle;\n",
       "    }\n",
       "\n",
       "    .dataframe tbody tr th {\n",
       "        vertical-align: top;\n",
       "    }\n",
       "\n",
       "    .dataframe thead th {\n",
       "        text-align: right;\n",
       "    }\n",
       "</style>\n",
       "<table border=\"1\" class=\"dataframe\">\n",
       "  <thead>\n",
       "    <tr style=\"text-align: right;\">\n",
       "      <th></th>\n",
       "      <th>Curated DUP</th>\n",
       "    </tr>\n",
       "  </thead>\n",
       "  <tbody>\n",
       "    <tr>\n",
       "      <th>Max length</th>\n",
       "      <td>411.0</td>\n",
       "    </tr>\n",
       "    <tr>\n",
       "      <th>Min length</th>\n",
       "      <td>98.0</td>\n",
       "    </tr>\n",
       "    <tr>\n",
       "      <th>Mean length</th>\n",
       "      <td>161.8</td>\n",
       "    </tr>\n",
       "    <tr>\n",
       "      <th>Median length</th>\n",
       "      <td>126.0</td>\n",
       "    </tr>\n",
       "    <tr>\n",
       "      <th>Count</th>\n",
       "      <td>37.0</td>\n",
       "    </tr>\n",
       "  </tbody>\n",
       "</table>\n",
       "</div>"
      ],
      "text/plain": [
       "               Curated DUP\n",
       "Max length           411.0\n",
       "Min length            98.0\n",
       "Mean length          161.8\n",
       "Median length        126.0\n",
       "Count                 37.0"
      ]
     },
     "execution_count": 920,
     "metadata": {},
     "output_type": "execute_result"
    }
   ],
   "source": [
    "#d = {'Curated DUP': [max, min, Mean, median, count]}\n",
    "#df = pd.DataFrame(data=d, index=['Max length', 'Min length', 'Mean length','Median length', 'Count'])\n",
    "\n",
    "#curateddups = pd.DataFrame(data=d)\n",
    "#curateddups = df.round(1)\n",
    "curateddups"
   ]
  },
  {
   "cell_type": "code",
   "execution_count": 921,
   "metadata": {},
   "outputs": [
    {
     "data": {
      "text/html": [
       "<div>\n",
       "<style scoped>\n",
       "    .dataframe tbody tr th:only-of-type {\n",
       "        vertical-align: middle;\n",
       "    }\n",
       "\n",
       "    .dataframe tbody tr th {\n",
       "        vertical-align: top;\n",
       "    }\n",
       "\n",
       "    .dataframe thead th {\n",
       "        text-align: right;\n",
       "    }\n",
       "</style>\n",
       "<table border=\"1\" class=\"dataframe\">\n",
       "  <thead>\n",
       "    <tr style=\"text-align: right;\">\n",
       "      <th></th>\n",
       "      <th>Uncurated DUP</th>\n",
       "    </tr>\n",
       "  </thead>\n",
       "  <tbody>\n",
       "    <tr>\n",
       "      <th>Max length</th>\n",
       "      <td>120312679.0</td>\n",
       "    </tr>\n",
       "    <tr>\n",
       "      <th>Min length</th>\n",
       "      <td>79.0</td>\n",
       "    </tr>\n",
       "    <tr>\n",
       "      <th>Mean length</th>\n",
       "      <td>1497612.7</td>\n",
       "    </tr>\n",
       "    <tr>\n",
       "      <th>Median length</th>\n",
       "      <td>1349.5</td>\n",
       "    </tr>\n",
       "    <tr>\n",
       "      <th>Count</th>\n",
       "      <td>3430.0</td>\n",
       "    </tr>\n",
       "  </tbody>\n",
       "</table>\n",
       "</div>"
      ],
      "text/plain": [
       "               Uncurated DUP\n",
       "Max length       120312679.0\n",
       "Min length              79.0\n",
       "Mean length        1497612.7\n",
       "Median length         1349.5\n",
       "Count                 3430.0"
      ]
     },
     "execution_count": 921,
     "metadata": {},
     "output_type": "execute_result"
    }
   ],
   "source": [
    "#d = {'Uncurated DUP': [max, min, Mean, median, count]}\n",
    "#df = pd.DataFrame(data=d, index=['Max length', 'Min length', 'Mean length','Median length', 'Count'])\n",
    "\n",
    "#uncurateddups = pd.DataFrame(data=d)\n",
    "#uncurateddups = df.round(1)\n",
    "uncurateddups"
   ]
  },
  {
   "cell_type": "code",
   "execution_count": 922,
   "metadata": {},
   "outputs": [
    {
     "data": {
      "text/html": [
       "<div>\n",
       "<style scoped>\n",
       "    .dataframe tbody tr th:only-of-type {\n",
       "        vertical-align: middle;\n",
       "    }\n",
       "\n",
       "    .dataframe tbody tr th {\n",
       "        vertical-align: top;\n",
       "    }\n",
       "\n",
       "    .dataframe thead th {\n",
       "        text-align: right;\n",
       "    }\n",
       "</style>\n",
       "<table border=\"1\" class=\"dataframe\">\n",
       "  <thead>\n",
       "    <tr style=\"text-align: right;\">\n",
       "      <th></th>\n",
       "      <th>Uncurated INV</th>\n",
       "    </tr>\n",
       "  </thead>\n",
       "  <tbody>\n",
       "    <tr>\n",
       "      <th>Max length</th>\n",
       "      <td>76386443.0</td>\n",
       "    </tr>\n",
       "    <tr>\n",
       "      <th>Min length</th>\n",
       "      <td>33.0</td>\n",
       "    </tr>\n",
       "    <tr>\n",
       "      <th>Mean length</th>\n",
       "      <td>639090.0</td>\n",
       "    </tr>\n",
       "    <tr>\n",
       "      <th>Median length</th>\n",
       "      <td>83.0</td>\n",
       "    </tr>\n",
       "    <tr>\n",
       "      <th>Count</th>\n",
       "      <td>1188.0</td>\n",
       "    </tr>\n",
       "  </tbody>\n",
       "</table>\n",
       "</div>"
      ],
      "text/plain": [
       "               Uncurated INV\n",
       "Max length        76386443.0\n",
       "Min length              33.0\n",
       "Mean length         639090.0\n",
       "Median length           83.0\n",
       "Count                 1188.0"
      ]
     },
     "execution_count": 922,
     "metadata": {},
     "output_type": "execute_result"
    }
   ],
   "source": [
    "#d = {'Uncurated INV': [max, min, Mean, median, count]}\n",
    "#df = pd.DataFrame(data=d, index=['Max length', 'Min length', 'Mean length','Median length', 'Count'])\n",
    "\n",
    "#uncuratedinvs = pd.DataFrame(data=d)\n",
    "#uncuratedinvs = df.round(1)\n",
    "uncuratedinvs"
   ]
  },
  {
   "cell_type": "code",
   "execution_count": 923,
   "metadata": {},
   "outputs": [],
   "source": [
    "#merged = pd.concat([yesalldels,uncurateddels,curatedinvs,uncuratedinvs,curateddups,uncurateddups], axis=1)\n",
    "#merged\n",
    "\n",
    "#merged.to_csv(\"size_table.csv\")"
   ]
  },
  {
   "cell_type": "code",
   "execution_count": 929,
   "metadata": {},
   "outputs": [
    {
     "data": {
      "text/html": [
       "<div>\n",
       "<style scoped>\n",
       "    .dataframe tbody tr th:only-of-type {\n",
       "        vertical-align: middle;\n",
       "    }\n",
       "\n",
       "    .dataframe tbody tr th {\n",
       "        vertical-align: top;\n",
       "    }\n",
       "\n",
       "    .dataframe thead th {\n",
       "        text-align: right;\n",
       "    }\n",
       "</style>\n",
       "<table border=\"1\" class=\"dataframe\">\n",
       "  <thead>\n",
       "    <tr style=\"text-align: right;\">\n",
       "      <th></th>\n",
       "      <th>Curated DEL 1cur</th>\n",
       "      <th>Uncurated DEL</th>\n",
       "      <th>Curated_Inversions_G</th>\n",
       "      <th>Uncurated INV</th>\n",
       "      <th>Curated DUP 1cur</th>\n",
       "      <th>Uncurated DUP</th>\n",
       "    </tr>\n",
       "  </thead>\n",
       "  <tbody>\n",
       "    <tr>\n",
       "      <th>Max length</th>\n",
       "      <td>6096.0</td>\n",
       "      <td>142501103.0</td>\n",
       "      <td>2057.0</td>\n",
       "      <td>76386443.0</td>\n",
       "      <td>2121873.0</td>\n",
       "      <td>120312679.0</td>\n",
       "    </tr>\n",
       "    <tr>\n",
       "      <th>Min length</th>\n",
       "      <td>25.0</td>\n",
       "      <td>23.0</td>\n",
       "      <td>37.0</td>\n",
       "      <td>33.0</td>\n",
       "      <td>95.0</td>\n",
       "      <td>79.0</td>\n",
       "    </tr>\n",
       "    <tr>\n",
       "      <th>Mean length</th>\n",
       "      <td>256.7</td>\n",
       "      <td>319153.0</td>\n",
       "      <td>87.4</td>\n",
       "      <td>639090.0</td>\n",
       "      <td>13290.2</td>\n",
       "      <td>1497612.7</td>\n",
       "    </tr>\n",
       "    <tr>\n",
       "      <th>Median length</th>\n",
       "      <td>106.0</td>\n",
       "      <td>376.0</td>\n",
       "      <td>376.0</td>\n",
       "      <td>83.0</td>\n",
       "      <td>345.0</td>\n",
       "      <td>1349.5</td>\n",
       "    </tr>\n",
       "    <tr>\n",
       "      <th>Count</th>\n",
       "      <td>2457.0</td>\n",
       "      <td>15029.0</td>\n",
       "      <td>177.0</td>\n",
       "      <td>1188.0</td>\n",
       "      <td>287.0</td>\n",
       "      <td>3430.0</td>\n",
       "    </tr>\n",
       "  </tbody>\n",
       "</table>\n",
       "</div>"
      ],
      "text/plain": [
       "               Curated DEL 1cur  Uncurated DEL  Curated_Inversions_G  \\\n",
       "Max length               6096.0    142501103.0                2057.0   \n",
       "Min length                 25.0           23.0                  37.0   \n",
       "Mean length               256.7       319153.0                  87.4   \n",
       "Median length             106.0          376.0                 376.0   \n",
       "Count                    2457.0        15029.0                 177.0   \n",
       "\n",
       "               Uncurated INV  Curated DUP 1cur  Uncurated DUP  \n",
       "Max length        76386443.0         2121873.0    120312679.0  \n",
       "Min length              33.0              95.0           79.0  \n",
       "Mean length         639090.0           13290.2      1497612.7  \n",
       "Median length           83.0             345.0         1349.5  \n",
       "Count                 1188.0             287.0         3430.0  "
      ]
     },
     "execution_count": 929,
     "metadata": {},
     "output_type": "execute_result"
    }
   ],
   "source": [
    "merged2 = pd.concat([curateddelsG,uncurateddels,curatedinvsG,uncuratedinvs,curateddupsG,uncurateddups], axis=1)\n",
    "merged2\n",
    "\n",
    "#merged2.to_csv(\"size_table2.csv\")"
   ]
  },
  {
   "cell_type": "code",
   "execution_count": 930,
   "metadata": {},
   "outputs": [],
   "source": [
    "\n",
    "merged2.to_csv(\"size_table.csv\")"
   ]
  },
  {
   "cell_type": "code",
   "execution_count": 931,
   "metadata": {},
   "outputs": [
    {
     "data": {
      "text/plain": [
       "'<table border=\"1\" class=\"dataframe\">\\n  <thead>\\n    <tr style=\"text-align: right;\">\\n      <th></th>\\n      <th>Curated DEL 1cur</th>\\n      <th>Uncurated DEL</th>\\n      <th>Curated_Inversions_G</th>\\n      <th>Uncurated INV</th>\\n      <th>Curated DUP 1cur</th>\\n      <th>Uncurated DUP</th>\\n    </tr>\\n  </thead>\\n  <tbody>\\n    <tr>\\n      <th>Max length</th>\\n      <td>6096.0</td>\\n      <td>142501103.0</td>\\n      <td>2057.0</td>\\n      <td>76386443.0</td>\\n      <td>2121873.0</td>\\n      <td>120312679.0</td>\\n    </tr>\\n    <tr>\\n      <th>Min length</th>\\n      <td>25.0</td>\\n      <td>23.0</td>\\n      <td>37.0</td>\\n      <td>33.0</td>\\n      <td>95.0</td>\\n      <td>79.0</td>\\n    </tr>\\n    <tr>\\n      <th>Mean length</th>\\n      <td>256.7</td>\\n      <td>319153.0</td>\\n      <td>87.4</td>\\n      <td>639090.0</td>\\n      <td>13290.2</td>\\n      <td>1497612.7</td>\\n    </tr>\\n    <tr>\\n      <th>Median length</th>\\n      <td>106.0</td>\\n      <td>376.0</td>\\n      <td>376.0</td>\\n      <td>83.0</td>\\n      <td>345.0</td>\\n      <td>1349.5</td>\\n    </tr>\\n    <tr>\\n      <th>Count</th>\\n      <td>2457.0</td>\\n      <td>15029.0</td>\\n      <td>177.0</td>\\n      <td>1188.0</td>\\n      <td>287.0</td>\\n      <td>3430.0</td>\\n    </tr>\\n  </tbody>\\n</table>'"
      ]
     },
     "execution_count": 931,
     "metadata": {},
     "output_type": "execute_result"
    }
   ],
   "source": [
    "htmlpretty = merged2.to_html()\n",
    "htmlpretty\n"
   ]
  },
  {
   "cell_type": "code",
   "execution_count": 848,
   "metadata": {},
   "outputs": [],
   "source": [
    "\n",
    "#merged.to_csv(\"size_table.csv\")"
   ]
  },
  {
   "cell_type": "code",
   "execution_count": 849,
   "metadata": {},
   "outputs": [
    {
     "data": {
      "text/plain": [
       "'<table border=\"1\" class=\"dataframe\">\\n  <thead>\\n    <tr style=\"text-align: right;\">\\n      <th></th>\\n      <th>Curated DEL</th>\\n      <th>Uncurated DEL</th>\\n      <th>Curated INV</th>\\n      <th>Uncurated INV</th>\\n      <th>Curated DUP</th>\\n      <th>Uncurated DUP</th>\\n    </tr>\\n  </thead>\\n  <tbody>\\n    <tr>\\n      <th>Max length</th>\\n      <td>6096.0</td>\\n      <td>142501103.0</td>\\n      <td>107.0</td>\\n      <td>76386443.0</td>\\n      <td>411.0</td>\\n      <td>120312679.0</td>\\n    </tr>\\n    <tr>\\n      <th>Min length</th>\\n      <td>25.0</td>\\n      <td>23.0</td>\\n      <td>49.0</td>\\n      <td>33.0</td>\\n      <td>98.0</td>\\n      <td>79.0</td>\\n    </tr>\\n    <tr>\\n      <th>Mean length</th>\\n      <td>259.9</td>\\n      <td>319153.0</td>\\n      <td>68.2</td>\\n      <td>639090.0</td>\\n      <td>161.8</td>\\n      <td>1497612.7</td>\\n    </tr>\\n    <tr>\\n      <th>Median length</th>\\n      <td>109.0</td>\\n      <td>376.0</td>\\n      <td>63.0</td>\\n      <td>83.0</td>\\n      <td>126.0</td>\\n      <td>1349.5</td>\\n    </tr>\\n    <tr>\\n      <th>Count</th>\\n      <td>1243.0</td>\\n      <td>15029.0</td>\\n      <td>13.0</td>\\n      <td>1188.0</td>\\n      <td>37.0</td>\\n      <td>3430.0</td>\\n    </tr>\\n  </tbody>\\n</table>'"
      ]
     },
     "execution_count": 849,
     "metadata": {},
     "output_type": "execute_result"
    }
   ],
   "source": [
    "htmlpretty = merged.to_html()\n",
    "htmlpretty\n"
   ]
  },
  {
   "cell_type": "code",
   "execution_count": 479,
   "metadata": {},
   "outputs": [
    {
     "name": "stdout",
     "output_type": "stream",
     "text": [
      "'<table border=\"1\" class=\"dataframe\">\\n  <thead>\\n    <tr style=\"text-align: right;\">\\n      <th></th>\\n      <th>Curated_Deletions</th>\\n      <th>Curated_Deletions_G</th>\\n      <th>Uncurated_Deletions</th>\\n      <th>Rejected_Deletions</th>\\n      <th>Curated_Inversions</th>\\n      <th>Uncurated_Inversions</th>\\n      <th>Curated_Inversions_G</th>\\n      <th>Curated_Duplications</th>\\n      <th>Uncurated_Duplications</th>\\n      <th>Curated_Duplications_G</th>\\n    </tr>\\n  </thead>\\n  <tbody>\\n    <tr>\\n      <th>Max length</th>\\n      <td>6096.0</td>\\n      <td>6096.0</td>\\n      <td>142501103.0</td>\\n      <td>4482951.0</td>\\n      <td>107.0</td>\\n      <td>76386443.0</td>\\n      <td>2057.0</td>\\n      <td>411.0</td>\\n      <td>120312679.0</td>\\n      <td>2121873.0</td>\\n    </tr>\\n    <tr>\\n      <th>Min length</th>\\n      <td>25.0</td>\\n      <td>25.0</td>\\n      <td>23.0</td>\\n      <td>23.0</td>\\n      <td>49.0</td>\\n      <td>33.0</td>\\n      <td>37.0</td>\\n      <td>98.0</td>\\n      <td>79.0</td>\\n      <td>95.0</td>\\n    </tr>\\n    <tr>\\n      <th>Mean length</th>\\n      <td>259.9</td>\\n      <td>256.7</td>\\n      <td>319153.0</td>\\n      <td>11273.0</td>\\n      <td>68.2</td>\\n      <td>639090.0</td>\\n      <td>87.4</td>\\n      <td>161.8</td>\\n      <td>1497612.7</td>\\n      <td>13290.2</td>\\n    </tr>\\n    <tr>\\n      <th>Median length</th>\\n      <td>376.0</td>\\n      <td>376.0</td>\\n      <td>376.0</td>\\n      <td>376.0</td>\\n      <td>376.0</td>\\n      <td>376.0</td>\\n      <td>376.0</td>\\n      <td>376.0</td>\\n      <td>376.0</td>\\n      <td>376.0</td>\\n    </tr>\\n    <tr>\\n      <th>Count</th>\\n      <td>1243.0</td>\\n      <td>2457.0</td>\\n      <td>15029.0</td>\\n      <td>13324.0</td>\\n      <td>13.0</td>\\n      <td>1188.0</td>\\n      <td>177.0</td>\\n      <td>37.0</td>\\n      <td>3430.0</td>\\n      <td>287.0</td>\\n    </tr>\\n  </tbody>\\n</table>\n"
     ]
    }
   ],
   "source": [
    "%%bash\n",
    "\n",
    "cat size.md | sed ':a;N;$!ba;s/\\n/   /g' "
   ]
  },
  {
   "cell_type": "code",
   "execution_count": null,
   "metadata": {},
   "outputs": [],
   "source": []
  },
  {
   "cell_type": "code",
   "execution_count": 460,
   "metadata": {},
   "outputs": [],
   "source": [
    "def to_html_pretty(merged, filename='/tmp/out.html', title=''):\n",
    "    '''\n",
    "    Write an entire dataframe to an HTML file\n",
    "    with nice formatting.\n",
    "    Thanks to @stackoverflowuser2010 for the\n",
    "    pretty printer see https://stackoverflow.com/a/47723330/362951\n",
    "    '''\n",
    "    ht = ''\n",
    "    if title != '':\n",
    "        ht += '<h2> %s </h2>\\n' % title\n",
    "    ht += merged.to_html(classes='wide', escape=False)\n",
    "\n",
    "    with open(filename, 'w') as f:\n",
    "         f.write(HTML_TEMPLATE1 + ht + HTML_TEMPLATE2)\n",
    "            \n",
    "HTML_TEMPLATE1 = '''\n",
    "<html>\n",
    "<head>\n",
    "<style>\n",
    "  h2 {\n",
    "    text-align: center;\n",
    "    font-family: Helvetica, Arial, sans-serif;\n",
    "  }\n",
    "  table { \n",
    "    margin-left: auto;\n",
    "    margin-right: auto;\n",
    "  }\n",
    "  table, th, td {\n",
    "    border: 1px solid black;\n",
    "    border-collapse: collapse;\n",
    "  }\n",
    "  th, td {\n",
    "    padding: 5px;\n",
    "    text-align: center;\n",
    "    font-family: Helvetica, Arial, sans-serif;\n",
    "    font-size: 90%;\n",
    "  }\n",
    "  table tbody tr:hover {\n",
    "    background-color: #dddddd;\n",
    "  }\n",
    "  .wide {\n",
    "    width: 90%; \n",
    "  }\n",
    "</style>\n",
    "</head>\n",
    "<body>\n",
    "'''\n",
    "\n",
    "HTML_TEMPLATE2 = '''\n",
    "</body>\n",
    "</html>\n",
    "'''"
   ]
  },
  {
   "cell_type": "code",
   "execution_count": 461,
   "metadata": {},
   "outputs": [],
   "source": [
    "intermediate_html = '/tmp/intermediate.html'\n",
    "to_html_pretty(merged,intermediate_html)"
   ]
  },
  {
   "cell_type": "code",
   "execution_count": 465,
   "metadata": {},
   "outputs": [],
   "source": [
    "# Convert the html file to a pdf file using weasyprint\n",
    "import weasyprint\n",
    "out_pdf= 'demo.pdf'\n",
    "weasyprint.HTML(intermediate_html).write_pdf(out_pdf)"
   ]
  },
  {
   "cell_type": "markdown",
   "metadata": {},
   "source": []
  },
  {
   "cell_type": "markdown",
   "metadata": {},
   "source": [
    "***NOW PLOT HISTOGRAMS*** "
   ]
  },
  {
   "cell_type": "code",
   "execution_count": 670,
   "metadata": {},
   "outputs": [],
   "source": [
    "#Filter for SVs only below 2000 base pairs in length\n",
    "Size_filtered =  [x for x in Size if x <= 2000]"
   ]
  },
  {
   "cell_type": "code",
   "execution_count": 671,
   "metadata": {},
   "outputs": [
    {
     "data": {
      "image/png": "[encoded data removed]",
      "text/plain": [
       "<Figure size 432x288 with 1 Axes>"
      ]
     },
     "metadata": {},
     "output_type": "display_data"
    }
   ],
   "source": [
    "plt.hist(Size_filtered, bins = 100)\n",
    "\n",
    "plt.style.use('ggplot')\n",
    "\n",
    "red_patch = mpatches.Patch(color='red', label='Deletions (Yes&Maybe)')\n",
    "\n",
    "plt.legend(handles=[red_patch])\n",
    "plt.show()\n"
   ]
  },
  {
   "cell_type": "code",
   "execution_count": 236,
   "metadata": {},
   "outputs": [],
   "source": [
    "import numpy as np\n",
    "import pandas as pd\n",
    "import matplotlib.pyplot as plt\n",
    "import matplotlib.patches as mpatches"
   ]
  },
  {
   "cell_type": "code",
   "execution_count": 237,
   "metadata": {},
   "outputs": [],
   "source": [
    "cat yesallintersect.bed | sed 's/\\t/,/'g > yesallintersect_DEL.csv"
   ]
  },
  {
   "cell_type": "code",
   "execution_count": 15,
   "metadata": {},
   "outputs": [],
   "source": [
    "df = pd.read_csv(\"yesallintersect_DEL.csv\", \n",
    "                  names=[\"Chrom\", \"Start\", \"Stop\"])"
   ]
  },
  {
   "cell_type": "code",
   "execution_count": 16,
   "metadata": {},
   "outputs": [
    {
     "data": {
      "text/html": [
       "<div>\n",
       "<style scoped>\n",
       "    .dataframe tbody tr th:only-of-type {\n",
       "        vertical-align: middle;\n",
       "    }\n",
       "\n",
       "    .dataframe tbody tr th {\n",
       "        vertical-align: top;\n",
       "    }\n",
       "\n",
       "    .dataframe thead th {\n",
       "        text-align: right;\n",
       "    }\n",
       "</style>\n",
       "<table border=\"1\" class=\"dataframe\">\n",
       "  <thead>\n",
       "    <tr style=\"text-align: right;\">\n",
       "      <th></th>\n",
       "      <th>Chrom</th>\n",
       "      <th>Start</th>\n",
       "      <th>Stop</th>\n",
       "    </tr>\n",
       "  </thead>\n",
       "  <tbody>\n",
       "    <tr>\n",
       "      <th>0</th>\n",
       "      <td>CM004525.1</td>\n",
       "      <td>450631</td>\n",
       "      <td>450686</td>\n",
       "    </tr>\n",
       "    <tr>\n",
       "      <th>1</th>\n",
       "      <td>CM004525.1</td>\n",
       "      <td>2793449</td>\n",
       "      <td>2793535</td>\n",
       "    </tr>\n",
       "    <tr>\n",
       "      <th>2</th>\n",
       "      <td>CM004525.1</td>\n",
       "      <td>3367261</td>\n",
       "      <td>3367328</td>\n",
       "    </tr>\n",
       "    <tr>\n",
       "      <th>3</th>\n",
       "      <td>CM004525.1</td>\n",
       "      <td>5558808</td>\n",
       "      <td>5559097</td>\n",
       "    </tr>\n",
       "    <tr>\n",
       "      <th>4</th>\n",
       "      <td>CM004525.1</td>\n",
       "      <td>7403899</td>\n",
       "      <td>7405237</td>\n",
       "    </tr>\n",
       "    <tr>\n",
       "      <th>...</th>\n",
       "      <td>...</td>\n",
       "      <td>...</td>\n",
       "      <td>...</td>\n",
       "    </tr>\n",
       "    <tr>\n",
       "      <th>1238</th>\n",
       "      <td>CM004550.1</td>\n",
       "      <td>4313940</td>\n",
       "      <td>4314149</td>\n",
       "    </tr>\n",
       "    <tr>\n",
       "      <th>1239</th>\n",
       "      <td>CM004552.1</td>\n",
       "      <td>1630828</td>\n",
       "      <td>1630907</td>\n",
       "    </tr>\n",
       "    <tr>\n",
       "      <th>1240</th>\n",
       "      <td>CM004553.1</td>\n",
       "      <td>2614566</td>\n",
       "      <td>2614634</td>\n",
       "    </tr>\n",
       "    <tr>\n",
       "      <th>1241</th>\n",
       "      <td>CM004553.1</td>\n",
       "      <td>2844947</td>\n",
       "      <td>2845034</td>\n",
       "    </tr>\n",
       "    <tr>\n",
       "      <th>1242</th>\n",
       "      <td>CM004554.1</td>\n",
       "      <td>868672</td>\n",
       "      <td>869052</td>\n",
       "    </tr>\n",
       "  </tbody>\n",
       "</table>\n",
       "<p>1243 rows × 3 columns</p>\n",
       "</div>"
      ],
      "text/plain": [
       "           Chrom    Start     Stop\n",
       "0     CM004525.1   450631   450686\n",
       "1     CM004525.1  2793449  2793535\n",
       "2     CM004525.1  3367261  3367328\n",
       "3     CM004525.1  5558808  5559097\n",
       "4     CM004525.1  7403899  7405237\n",
       "...          ...      ...      ...\n",
       "1238  CM004550.1  4313940  4314149\n",
       "1239  CM004552.1  1630828  1630907\n",
       "1240  CM004553.1  2614566  2614634\n",
       "1241  CM004553.1  2844947  2845034\n",
       "1242  CM004554.1   868672   869052\n",
       "\n",
       "[1243 rows x 3 columns]"
      ]
     },
     "execution_count": 16,
     "metadata": {},
     "output_type": "execute_result"
    }
   ],
   "source": [
    "df"
   ]
  },
  {
   "cell_type": "code",
   "execution_count": 702,
   "metadata": {},
   "outputs": [
    {
     "ename": "KeyError",
     "evalue": "'Stop'",
     "output_type": "error",
     "traceback": [
      "\u001b[0;31m---------------------------------------------------------------------------\u001b[0m",
      "\u001b[0;31mKeyError\u001b[0m                                  Traceback (most recent call last)",
      "\u001b[0;32m/opt/anaconda3/envs/jupyterlab/lib/python3.7/site-packages/pandas/core/indexes/base.py\u001b[0m in \u001b[0;36mget_loc\u001b[0;34m(self, key, method, tolerance)\u001b[0m\n\u001b[1;32m   2897\u001b[0m             \u001b[0;32mtry\u001b[0m\u001b[0;34m:\u001b[0m\u001b[0;34m\u001b[0m\u001b[0;34m\u001b[0m\u001b[0m\n\u001b[0;32m-> 2898\u001b[0;31m                 \u001b[0;32mreturn\u001b[0m \u001b[0mself\u001b[0m\u001b[0;34m.\u001b[0m\u001b[0m_engine\u001b[0m\u001b[0;34m.\u001b[0m\u001b[0mget_loc\u001b[0m\u001b[0;34m(\u001b[0m\u001b[0mcasted_key\u001b[0m\u001b[0;34m)\u001b[0m\u001b[0;34m\u001b[0m\u001b[0;34m\u001b[0m\u001b[0m\n\u001b[0m\u001b[1;32m   2899\u001b[0m             \u001b[0;32mexcept\u001b[0m \u001b[0mKeyError\u001b[0m \u001b[0;32mas\u001b[0m \u001b[0merr\u001b[0m\u001b[0;34m:\u001b[0m\u001b[0;34m\u001b[0m\u001b[0;34m\u001b[0m\u001b[0m\n",
      "\u001b[0;32mpandas/_libs/index.pyx\u001b[0m in \u001b[0;36mpandas._libs.index.IndexEngine.get_loc\u001b[0;34m()\u001b[0m\n",
      "\u001b[0;32mpandas/_libs/index.pyx\u001b[0m in \u001b[0;36mpandas._libs.index.IndexEngine.get_loc\u001b[0;34m()\u001b[0m\n",
      "\u001b[0;32mpandas/_libs/hashtable_class_helper.pxi\u001b[0m in \u001b[0;36mpandas._libs.hashtable.PyObjectHashTable.get_item\u001b[0;34m()\u001b[0m\n",
      "\u001b[0;32mpandas/_libs/hashtable_class_helper.pxi\u001b[0m in \u001b[0;36mpandas._libs.hashtable.PyObjectHashTable.get_item\u001b[0;34m()\u001b[0m\n",
      "\u001b[0;31mKeyError\u001b[0m: 'Stop'",
      "\nThe above exception was the direct cause of the following exception:\n",
      "\u001b[0;31mKeyError\u001b[0m                                  Traceback (most recent call last)",
      "\u001b[0;32m<ipython-input-702-33eb242f3e57>\u001b[0m in \u001b[0;36m<module>\u001b[0;34m()\u001b[0m\n\u001b[0;32m----> 1\u001b[0;31m \u001b[0mdf\u001b[0m\u001b[0;34m[\u001b[0m\u001b[0;34m'Size'\u001b[0m\u001b[0;34m]\u001b[0m\u001b[0;34m=\u001b[0m\u001b[0mdf\u001b[0m\u001b[0;34m[\u001b[0m\u001b[0;34m'Stop'\u001b[0m\u001b[0;34m]\u001b[0m\u001b[0;34m-\u001b[0m\u001b[0mdf\u001b[0m\u001b[0;34m[\u001b[0m\u001b[0;34m'Start'\u001b[0m\u001b[0;34m]\u001b[0m\u001b[0;34m\u001b[0m\u001b[0;34m\u001b[0m\u001b[0m\n\u001b[0m",
      "\u001b[0;32m/opt/anaconda3/envs/jupyterlab/lib/python3.7/site-packages/pandas/core/frame.py\u001b[0m in \u001b[0;36m__getitem__\u001b[0;34m(self, key)\u001b[0m\n\u001b[1;32m   2904\u001b[0m             \u001b[0;32mif\u001b[0m \u001b[0mself\u001b[0m\u001b[0;34m.\u001b[0m\u001b[0mcolumns\u001b[0m\u001b[0;34m.\u001b[0m\u001b[0mnlevels\u001b[0m \u001b[0;34m>\u001b[0m \u001b[0;36m1\u001b[0m\u001b[0;34m:\u001b[0m\u001b[0;34m\u001b[0m\u001b[0;34m\u001b[0m\u001b[0m\n\u001b[1;32m   2905\u001b[0m                 \u001b[0;32mreturn\u001b[0m \u001b[0mself\u001b[0m\u001b[0;34m.\u001b[0m\u001b[0m_getitem_multilevel\u001b[0m\u001b[0;34m(\u001b[0m\u001b[0mkey\u001b[0m\u001b[0;34m)\u001b[0m\u001b[0;34m\u001b[0m\u001b[0;34m\u001b[0m\u001b[0m\n\u001b[0;32m-> 2906\u001b[0;31m             \u001b[0mindexer\u001b[0m \u001b[0;34m=\u001b[0m \u001b[0mself\u001b[0m\u001b[0;34m.\u001b[0m\u001b[0mcolumns\u001b[0m\u001b[0;34m.\u001b[0m\u001b[0mget_loc\u001b[0m\u001b[0;34m(\u001b[0m\u001b[0mkey\u001b[0m\u001b[0;34m)\u001b[0m\u001b[0;34m\u001b[0m\u001b[0;34m\u001b[0m\u001b[0m\n\u001b[0m\u001b[1;32m   2907\u001b[0m             \u001b[0;32mif\u001b[0m \u001b[0mis_integer\u001b[0m\u001b[0;34m(\u001b[0m\u001b[0mindexer\u001b[0m\u001b[0;34m)\u001b[0m\u001b[0;34m:\u001b[0m\u001b[0;34m\u001b[0m\u001b[0;34m\u001b[0m\u001b[0m\n\u001b[1;32m   2908\u001b[0m                 \u001b[0mindexer\u001b[0m \u001b[0;34m=\u001b[0m \u001b[0;34m[\u001b[0m\u001b[0mindexer\u001b[0m\u001b[0;34m]\u001b[0m\u001b[0;34m\u001b[0m\u001b[0;34m\u001b[0m\u001b[0m\n",
      "\u001b[0;32m/opt/anaconda3/envs/jupyterlab/lib/python3.7/site-packages/pandas/core/indexes/base.py\u001b[0m in \u001b[0;36mget_loc\u001b[0;34m(self, key, method, tolerance)\u001b[0m\n\u001b[1;32m   2898\u001b[0m                 \u001b[0;32mreturn\u001b[0m \u001b[0mself\u001b[0m\u001b[0;34m.\u001b[0m\u001b[0m_engine\u001b[0m\u001b[0;34m.\u001b[0m\u001b[0mget_loc\u001b[0m\u001b[0;34m(\u001b[0m\u001b[0mcasted_key\u001b[0m\u001b[0;34m)\u001b[0m\u001b[0;34m\u001b[0m\u001b[0;34m\u001b[0m\u001b[0m\n\u001b[1;32m   2899\u001b[0m             \u001b[0;32mexcept\u001b[0m \u001b[0mKeyError\u001b[0m \u001b[0;32mas\u001b[0m \u001b[0merr\u001b[0m\u001b[0;34m:\u001b[0m\u001b[0;34m\u001b[0m\u001b[0;34m\u001b[0m\u001b[0m\n\u001b[0;32m-> 2900\u001b[0;31m                 \u001b[0;32mraise\u001b[0m \u001b[0mKeyError\u001b[0m\u001b[0;34m(\u001b[0m\u001b[0mkey\u001b[0m\u001b[0;34m)\u001b[0m \u001b[0;32mfrom\u001b[0m \u001b[0merr\u001b[0m\u001b[0;34m\u001b[0m\u001b[0;34m\u001b[0m\u001b[0m\n\u001b[0m\u001b[1;32m   2901\u001b[0m \u001b[0;34m\u001b[0m\u001b[0m\n\u001b[1;32m   2902\u001b[0m         \u001b[0;32mif\u001b[0m \u001b[0mtolerance\u001b[0m \u001b[0;32mis\u001b[0m \u001b[0;32mnot\u001b[0m \u001b[0;32mNone\u001b[0m\u001b[0;34m:\u001b[0m\u001b[0;34m\u001b[0m\u001b[0;34m\u001b[0m\u001b[0m\n",
      "\u001b[0;31mKeyError\u001b[0m: 'Stop'"
     ]
    }
   ],
   "source": [
    "df['Size']=df['Stop']-df['Start']"
   ]
  },
  {
   "cell_type": "code",
   "execution_count": 701,
   "metadata": {},
   "outputs": [
    {
     "ename": "KeyError",
     "evalue": "'Size'",
     "output_type": "error",
     "traceback": [
      "\u001b[0;31m---------------------------------------------------------------------------\u001b[0m",
      "\u001b[0;31mKeyError\u001b[0m                                  Traceback (most recent call last)",
      "\u001b[0;32m/opt/anaconda3/envs/jupyterlab/lib/python3.7/site-packages/pandas/core/indexes/base.py\u001b[0m in \u001b[0;36mget_loc\u001b[0;34m(self, key, method, tolerance)\u001b[0m\n\u001b[1;32m   2897\u001b[0m             \u001b[0;32mtry\u001b[0m\u001b[0;34m:\u001b[0m\u001b[0;34m\u001b[0m\u001b[0;34m\u001b[0m\u001b[0m\n\u001b[0;32m-> 2898\u001b[0;31m                 \u001b[0;32mreturn\u001b[0m \u001b[0mself\u001b[0m\u001b[0;34m.\u001b[0m\u001b[0m_engine\u001b[0m\u001b[0;34m.\u001b[0m\u001b[0mget_loc\u001b[0m\u001b[0;34m(\u001b[0m\u001b[0mcasted_key\u001b[0m\u001b[0;34m)\u001b[0m\u001b[0;34m\u001b[0m\u001b[0;34m\u001b[0m\u001b[0m\n\u001b[0m\u001b[1;32m   2899\u001b[0m             \u001b[0;32mexcept\u001b[0m \u001b[0mKeyError\u001b[0m \u001b[0;32mas\u001b[0m \u001b[0merr\u001b[0m\u001b[0;34m:\u001b[0m\u001b[0;34m\u001b[0m\u001b[0;34m\u001b[0m\u001b[0m\n",
      "\u001b[0;32mpandas/_libs/index.pyx\u001b[0m in \u001b[0;36mpandas._libs.index.IndexEngine.get_loc\u001b[0;34m()\u001b[0m\n",
      "\u001b[0;32mpandas/_libs/index.pyx\u001b[0m in \u001b[0;36mpandas._libs.index.IndexEngine.get_loc\u001b[0;34m()\u001b[0m\n",
      "\u001b[0;32mpandas/_libs/hashtable_class_helper.pxi\u001b[0m in \u001b[0;36mpandas._libs.hashtable.PyObjectHashTable.get_item\u001b[0;34m()\u001b[0m\n",
      "\u001b[0;32mpandas/_libs/hashtable_class_helper.pxi\u001b[0m in \u001b[0;36mpandas._libs.hashtable.PyObjectHashTable.get_item\u001b[0;34m()\u001b[0m\n",
      "\u001b[0;31mKeyError\u001b[0m: 'Size'",
      "\nThe above exception was the direct cause of the following exception:\n",
      "\u001b[0;31mKeyError\u001b[0m                                  Traceback (most recent call last)",
      "\u001b[0;32m<ipython-input-701-8a9be92c32c0>\u001b[0m in \u001b[0;36m<module>\u001b[0;34m()\u001b[0m\n\u001b[0;32m----> 1\u001b[0;31m \u001b[0mSize\u001b[0m \u001b[0;34m=\u001b[0m \u001b[0mdf\u001b[0m\u001b[0;34m[\u001b[0m\u001b[0;34m'Size'\u001b[0m\u001b[0;34m]\u001b[0m\u001b[0;34m.\u001b[0m\u001b[0mtolist\u001b[0m\u001b[0;34m(\u001b[0m\u001b[0;34m)\u001b[0m\u001b[0;34m\u001b[0m\u001b[0;34m\u001b[0m\u001b[0m\n\u001b[0m\u001b[1;32m      2\u001b[0m \u001b[0ms\u001b[0m \u001b[0;34m=\u001b[0m \u001b[0msorted\u001b[0m\u001b[0;34m(\u001b[0m\u001b[0mSize\u001b[0m\u001b[0;34m)\u001b[0m\u001b[0;34m\u001b[0m\u001b[0;34m\u001b[0m\u001b[0m\n",
      "\u001b[0;32m/opt/anaconda3/envs/jupyterlab/lib/python3.7/site-packages/pandas/core/frame.py\u001b[0m in \u001b[0;36m__getitem__\u001b[0;34m(self, key)\u001b[0m\n\u001b[1;32m   2904\u001b[0m             \u001b[0;32mif\u001b[0m \u001b[0mself\u001b[0m\u001b[0;34m.\u001b[0m\u001b[0mcolumns\u001b[0m\u001b[0;34m.\u001b[0m\u001b[0mnlevels\u001b[0m \u001b[0;34m>\u001b[0m \u001b[0;36m1\u001b[0m\u001b[0;34m:\u001b[0m\u001b[0;34m\u001b[0m\u001b[0;34m\u001b[0m\u001b[0m\n\u001b[1;32m   2905\u001b[0m                 \u001b[0;32mreturn\u001b[0m \u001b[0mself\u001b[0m\u001b[0;34m.\u001b[0m\u001b[0m_getitem_multilevel\u001b[0m\u001b[0;34m(\u001b[0m\u001b[0mkey\u001b[0m\u001b[0;34m)\u001b[0m\u001b[0;34m\u001b[0m\u001b[0;34m\u001b[0m\u001b[0m\n\u001b[0;32m-> 2906\u001b[0;31m             \u001b[0mindexer\u001b[0m \u001b[0;34m=\u001b[0m \u001b[0mself\u001b[0m\u001b[0;34m.\u001b[0m\u001b[0mcolumns\u001b[0m\u001b[0;34m.\u001b[0m\u001b[0mget_loc\u001b[0m\u001b[0;34m(\u001b[0m\u001b[0mkey\u001b[0m\u001b[0;34m)\u001b[0m\u001b[0;34m\u001b[0m\u001b[0;34m\u001b[0m\u001b[0m\n\u001b[0m\u001b[1;32m   2907\u001b[0m             \u001b[0;32mif\u001b[0m \u001b[0mis_integer\u001b[0m\u001b[0;34m(\u001b[0m\u001b[0mindexer\u001b[0m\u001b[0;34m)\u001b[0m\u001b[0;34m:\u001b[0m\u001b[0;34m\u001b[0m\u001b[0;34m\u001b[0m\u001b[0m\n\u001b[1;32m   2908\u001b[0m                 \u001b[0mindexer\u001b[0m \u001b[0;34m=\u001b[0m \u001b[0;34m[\u001b[0m\u001b[0mindexer\u001b[0m\u001b[0;34m]\u001b[0m\u001b[0;34m\u001b[0m\u001b[0;34m\u001b[0m\u001b[0m\n",
      "\u001b[0;32m/opt/anaconda3/envs/jupyterlab/lib/python3.7/site-packages/pandas/core/indexes/base.py\u001b[0m in \u001b[0;36mget_loc\u001b[0;34m(self, key, method, tolerance)\u001b[0m\n\u001b[1;32m   2898\u001b[0m                 \u001b[0;32mreturn\u001b[0m \u001b[0mself\u001b[0m\u001b[0;34m.\u001b[0m\u001b[0m_engine\u001b[0m\u001b[0;34m.\u001b[0m\u001b[0mget_loc\u001b[0m\u001b[0;34m(\u001b[0m\u001b[0mcasted_key\u001b[0m\u001b[0;34m)\u001b[0m\u001b[0;34m\u001b[0m\u001b[0;34m\u001b[0m\u001b[0m\n\u001b[1;32m   2899\u001b[0m             \u001b[0;32mexcept\u001b[0m \u001b[0mKeyError\u001b[0m \u001b[0;32mas\u001b[0m \u001b[0merr\u001b[0m\u001b[0;34m:\u001b[0m\u001b[0;34m\u001b[0m\u001b[0;34m\u001b[0m\u001b[0m\n\u001b[0;32m-> 2900\u001b[0;31m                 \u001b[0;32mraise\u001b[0m \u001b[0mKeyError\u001b[0m\u001b[0;34m(\u001b[0m\u001b[0mkey\u001b[0m\u001b[0;34m)\u001b[0m \u001b[0;32mfrom\u001b[0m \u001b[0merr\u001b[0m\u001b[0;34m\u001b[0m\u001b[0;34m\u001b[0m\u001b[0m\n\u001b[0m\u001b[1;32m   2901\u001b[0m \u001b[0;34m\u001b[0m\u001b[0m\n\u001b[1;32m   2902\u001b[0m         \u001b[0;32mif\u001b[0m \u001b[0mtolerance\u001b[0m \u001b[0;32mis\u001b[0m \u001b[0;32mnot\u001b[0m \u001b[0;32mNone\u001b[0m\u001b[0;34m:\u001b[0m\u001b[0;34m\u001b[0m\u001b[0;34m\u001b[0m\u001b[0m\n",
      "\u001b[0;31mKeyError\u001b[0m: 'Size'"
     ]
    }
   ],
   "source": [
    "Size = df['Size'].tolist()\n",
    "s = sorted(Size)"
   ]
  },
  {
   "cell_type": "code",
   "execution_count": 19,
   "metadata": {},
   "outputs": [],
   "source": [
    "#Filter for SVs only below 2000 base pairs in length\n",
    "Size_filtered =  [x for x in Size if x <= 2000]"
   ]
  },
  {
   "cell_type": "code",
   "execution_count": 20,
   "metadata": {},
   "outputs": [
    {
     "data": {
      "image/png": "[encoded data removed]",
      "text/plain": [
       "<Figure size 432x288 with 1 Axes>"
      ]
     },
     "metadata": {},
     "output_type": "display_data"
    }
   ],
   "source": [
    "plt.hist(Size_filtered, bins = 2000)\n",
    "\n",
    "plt.style.use('ggplot')\n",
    "\n",
    "red_patch = mpatches.Patch(color='red', label='Uncurated Inversions')\n",
    "\n",
    "plt.legend(handles=[red_patch])\n",
    "plt.show()\n"
   ]
  },
  {
   "cell_type": "code",
   "execution_count": 13,
   "metadata": {},
   "outputs": [],
   "source": [
    "import numpy as np\n",
    "import pandas as pd\n",
    "import matplotlib.pyplot as plt\n",
    "import matplotlib.patches as mpatches"
   ]
  },
  {
   "cell_type": "code",
   "execution_count": 41,
   "metadata": {},
   "outputs": [],
   "source": [
    "%%bash\n",
    "\n",
    "SV=DEL\n",
    "\n",
    "cat uncurated_all_${SV}.bed | awk '{print $1, $2, $3}' | sed 's/ /,/'g > uncurated_all_${SV}.csv"
   ]
  },
  {
   "cell_type": "code",
   "execution_count": 42,
   "metadata": {},
   "outputs": [],
   "source": [
    "df = pd.read_csv(\"uncurated_all_DEL.csv\", \n",
    "                  names=[\"Chrom\", \"Start\", \"Stop\"])"
   ]
  },
  {
   "cell_type": "code",
   "execution_count": 43,
   "metadata": {},
   "outputs": [
    {
     "data": {
      "text/html": [
       "<div>\n",
       "<style scoped>\n",
       "    .dataframe tbody tr th:only-of-type {\n",
       "        vertical-align: middle;\n",
       "    }\n",
       "\n",
       "    .dataframe tbody tr th {\n",
       "        vertical-align: top;\n",
       "    }\n",
       "\n",
       "    .dataframe thead th {\n",
       "        text-align: right;\n",
       "    }\n",
       "</style>\n",
       "<table border=\"1\" class=\"dataframe\">\n",
       "  <thead>\n",
       "    <tr style=\"text-align: right;\">\n",
       "      <th></th>\n",
       "      <th>Chrom</th>\n",
       "      <th>Start</th>\n",
       "      <th>Stop</th>\n",
       "    </tr>\n",
       "  </thead>\n",
       "  <tbody>\n",
       "    <tr>\n",
       "      <th>0</th>\n",
       "      <td>CM004525.1</td>\n",
       "      <td>69685</td>\n",
       "      <td>70178</td>\n",
       "    </tr>\n",
       "    <tr>\n",
       "      <th>1</th>\n",
       "      <td>CM004525.1</td>\n",
       "      <td>70489</td>\n",
       "      <td>413631</td>\n",
       "    </tr>\n",
       "    <tr>\n",
       "      <th>2</th>\n",
       "      <td>CM004525.1</td>\n",
       "      <td>83292</td>\n",
       "      <td>83620</td>\n",
       "    </tr>\n",
       "    <tr>\n",
       "      <th>3</th>\n",
       "      <td>CM004525.1</td>\n",
       "      <td>83758</td>\n",
       "      <td>84400</td>\n",
       "    </tr>\n",
       "    <tr>\n",
       "      <th>4</th>\n",
       "      <td>CM004525.1</td>\n",
       "      <td>84072</td>\n",
       "      <td>84367</td>\n",
       "    </tr>\n",
       "    <tr>\n",
       "      <th>...</th>\n",
       "      <td>...</td>\n",
       "      <td>...</td>\n",
       "      <td>...</td>\n",
       "    </tr>\n",
       "    <tr>\n",
       "      <th>15024</th>\n",
       "      <td>CM004554.1</td>\n",
       "      <td>3378163</td>\n",
       "      <td>3378562</td>\n",
       "    </tr>\n",
       "    <tr>\n",
       "      <th>15025</th>\n",
       "      <td>CM004554.1</td>\n",
       "      <td>3458698</td>\n",
       "      <td>3461289</td>\n",
       "    </tr>\n",
       "    <tr>\n",
       "      <th>15026</th>\n",
       "      <td>CM004554.1</td>\n",
       "      <td>3461380</td>\n",
       "      <td>3466508</td>\n",
       "    </tr>\n",
       "    <tr>\n",
       "      <th>15027</th>\n",
       "      <td>CM004554.1</td>\n",
       "      <td>3479906</td>\n",
       "      <td>3486030</td>\n",
       "    </tr>\n",
       "    <tr>\n",
       "      <th>15028</th>\n",
       "      <td>CM004554.1</td>\n",
       "      <td>3514583</td>\n",
       "      <td>3515112</td>\n",
       "    </tr>\n",
       "  </tbody>\n",
       "</table>\n",
       "<p>15029 rows × 3 columns</p>\n",
       "</div>"
      ],
      "text/plain": [
       "            Chrom    Start     Stop\n",
       "0      CM004525.1    69685    70178\n",
       "1      CM004525.1    70489   413631\n",
       "2      CM004525.1    83292    83620\n",
       "3      CM004525.1    83758    84400\n",
       "4      CM004525.1    84072    84367\n",
       "...           ...      ...      ...\n",
       "15024  CM004554.1  3378163  3378562\n",
       "15025  CM004554.1  3458698  3461289\n",
       "15026  CM004554.1  3461380  3466508\n",
       "15027  CM004554.1  3479906  3486030\n",
       "15028  CM004554.1  3514583  3515112\n",
       "\n",
       "[15029 rows x 3 columns]"
      ]
     },
     "execution_count": 43,
     "metadata": {},
     "output_type": "execute_result"
    }
   ],
   "source": [
    "df"
   ]
  },
  {
   "cell_type": "code",
   "execution_count": 44,
   "metadata": {},
   "outputs": [],
   "source": [
    "df['Size']=df['Stop']-df['Start']"
   ]
  },
  {
   "cell_type": "code",
   "execution_count": 45,
   "metadata": {},
   "outputs": [],
   "source": [
    "Size = df['Size'].tolist()\n",
    "s = sorted(Size)"
   ]
  },
  {
   "cell_type": "code",
   "execution_count": 46,
   "metadata": {},
   "outputs": [],
   "source": [
    "#Filter for SVs only below 2000 base pairs in length\n",
    "Size_filtered =  [x for x in Size if x <= 2000]"
   ]
  },
  {
   "cell_type": "code",
   "execution_count": 48,
   "metadata": {},
   "outputs": [
    {
     "data": {
      "image/png": "[encoded data removed]",
      "text/plain": [
       "<Figure size 432x288 with 1 Axes>"
      ]
     },
     "metadata": {},
     "output_type": "display_data"
    }
   ],
   "source": [
    "plt.hist(Size_filtered, bins = 100)\n",
    "\n",
    "plt.style.use('ggplot')\n",
    "\n",
    "red_patch = mpatches.Patch(color='red', label='Deletions (Uncurated all)')\n",
    "\n",
    "plt.legend(handles=[red_patch])\n",
    "plt.show()\n"
   ]
  }
 ],
 "metadata": {
  "kernelspec": {
   "display_name": "Python 3",
   "language": "python",
   "name": "python3"
  },
  "language_info": {
   "codemirror_mode": {
    "name": "ipython",
    "version": 3
   },
   "file_extension": ".py",
   "mimetype": "text/x-python",
   "name": "python",
   "nbconvert_exporter": "python",
   "pygments_lexer": "ipython3",
   "version": "3.7.9"
  }
 },
 "nbformat": 4,
 "nbformat_minor": 4
}
